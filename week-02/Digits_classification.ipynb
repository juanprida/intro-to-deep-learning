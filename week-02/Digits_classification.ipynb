{
  "cells": [
    {
      "cell_type": "markdown",
      "metadata": {
        "id": "view-in-github",
        "colab_type": "text"
      },
      "source": [
        "<a href=\"https://colab.research.google.com/github/juanprida/intro-to-deep-learning/blob/main/week-02/Digits_classification.ipynb\" target=\"_parent\"><img src=\"https://colab.research.google.com/assets/colab-badge.svg\" alt=\"Open In Colab\"/></a>"
      ]
    },
    {
      "cell_type": "code",
      "source": [
        "! shred -u setup_google_colab.py\n",
        "! wget https://raw.githubusercontent.com/hse-aml/intro-to-dl/master/setup_google_colab.py -O setup_google_colab.py\n",
        "import setup_google_colab\n",
        "# please, uncomment the week you're working on\n",
        "# setup_google_colab.setup_week1()\n",
        "setup_google_colab.setup_week2()\n",
        "# setup_google_colab.setup_week2_honor()\n",
        "# setup_google_colab.setup_week3()\n",
        "# setup_google_colab.setup_week4()\n",
        "# setup_google_colab.setup_week5()\n",
        "# setup_google_colab.setup_week6()"
      ],
      "metadata": {
        "id": "7RUeanr7JzKM",
        "colab": {
          "base_uri": "https://localhost:8080/"
        },
        "outputId": "60d05743-a86c-485c-c847-7316736aa744"
      },
      "execution_count": 1,
      "outputs": [
        {
          "output_type": "stream",
          "name": "stdout",
          "text": [
            "--2021-12-28 10:46:23--  https://raw.githubusercontent.com/hse-aml/intro-to-dl/master/setup_google_colab.py\n",
            "Resolving raw.githubusercontent.com (raw.githubusercontent.com)... 185.199.110.133, 185.199.111.133, 185.199.109.133, ...\n",
            "Connecting to raw.githubusercontent.com (raw.githubusercontent.com)|185.199.110.133|:443... connected.\n",
            "HTTP request sent, awaiting response... 200 OK\n",
            "Length: 3636 (3.6K) [text/plain]\n",
            "Saving to: ‘setup_google_colab.py’\n",
            "\n",
            "\rsetup_google_colab.   0%[                    ]       0  --.-KB/s               \rsetup_google_colab. 100%[===================>]   3.55K  --.-KB/s    in 0s      \n",
            "\n",
            "2021-12-28 10:46:23 (37.7 MB/s) - ‘setup_google_colab.py’ saved [3636/3636]\n",
            "\n",
            "**************************************************\n",
            "inception_v3_weights_tf_dim_ordering_tf_kernels_notop.h5\n",
            "**************************************************\n",
            "cifar-10-batches-py.tar.gz\n",
            "**************************************************\n",
            "mnist.npz\n"
          ]
        }
      ]
    },
    {
      "cell_type": "code",
      "execution_count": 2,
      "metadata": {
        "id": "kEHdU48zJu2i",
        "colab": {
          "base_uri": "https://localhost:8080/"
        },
        "outputId": "4ae840a2-0ea0-44c3-e01f-46c9e52c0200"
      },
      "outputs": [
        {
          "output_type": "stream",
          "name": "stdout",
          "text": [
            "TensorFlow 1.x selected.\n"
          ]
        }
      ],
      "source": [
        "# set tf 1.x for colab\n",
        "%tensorflow_version 1.x"
      ]
    },
    {
      "cell_type": "markdown",
      "metadata": {
        "id": "fYFSMs6vJu2l"
      },
      "source": [
        "# MNIST digits classification with TensorFlow"
      ]
    },
    {
      "cell_type": "markdown",
      "metadata": {
        "id": "Fy_qBD7vJu2n"
      },
      "source": [
        "<img src=\"https://github.com/hse-aml/intro-to-dl/blob/master/week2/v2/images/mnist_sample.png?raw=1\" style=\"width:30%\">"
      ]
    },
    {
      "cell_type": "code",
      "execution_count": 3,
      "metadata": {
        "id": "YtXcW67OJu2o",
        "colab": {
          "base_uri": "https://localhost:8080/"
        },
        "outputId": "403bc8e1-1a2c-47cb-9101-2575cc5a602b"
      },
      "outputs": [
        {
          "output_type": "stream",
          "name": "stdout",
          "text": [
            "We're using TF 1.15.2\n"
          ]
        },
        {
          "output_type": "stream",
          "name": "stderr",
          "text": [
            "Using TensorFlow backend.\n"
          ]
        }
      ],
      "source": [
        "import numpy as np\n",
        "from sklearn.metrics import accuracy_score\n",
        "from matplotlib import pyplot as plt\n",
        "%matplotlib inline\n",
        "import tensorflow as tf\n",
        "print(\"We're using TF\", tf.__version__)\n",
        "\n",
        "import sys\n",
        "sys.path.append(\"../..\")\n",
        "import grading\n",
        "\n",
        "import matplotlib_utils\n",
        "from importlib import reload\n",
        "reload(matplotlib_utils)\n",
        "\n",
        "import grading_utils\n",
        "reload(grading_utils)\n",
        "\n",
        "import keras_utils\n",
        "from keras_utils import reset_tf_session"
      ]
    },
    {
      "cell_type": "markdown",
      "metadata": {
        "id": "1lElqkqxJu2p"
      },
      "source": [
        "# Fill in your Coursera token and email\n",
        "To successfully submit your answers to our grader, please fill in your Coursera submission token and email"
      ]
    },
    {
      "cell_type": "code",
      "execution_count": 4,
      "metadata": {
        "id": "HgAt9xvGJu2p"
      },
      "outputs": [],
      "source": [
        "grader = grading.Grader(assignment_key=\"XtD7ho3TEeiHQBLWejjYAA\", \n",
        "                        all_parts=[\"9XaAS\", \"vmogZ\", \"RMv95\", \"i8bgs\", \"rE763\"])"
      ]
    },
    {
      "cell_type": "code",
      "execution_count": 41,
      "metadata": {
        "id": "j1Mpoap2Ju2q"
      },
      "outputs": [],
      "source": [
        "# token expires every 30 min\n",
        "COURSERA_TOKEN =  \"myJ4bppW3rnOHZsz\"\n",
        "COURSERA_EMAIL = \"juan.prida@vistaprint.com\""
      ]
    },
    {
      "cell_type": "markdown",
      "metadata": {
        "id": "szAyT_BVJu2r"
      },
      "source": [
        "# Look at the data\n",
        "\n",
        "In this task we have 50000 28x28 images of digits from 0 to 9.\n",
        "We will train a classifier on this data."
      ]
    },
    {
      "cell_type": "code",
      "execution_count": 6,
      "metadata": {
        "id": "J_-sBI0uJu2s"
      },
      "outputs": [],
      "source": [
        "import preprocessed_mnist\n",
        "X_train, y_train, X_val, y_val, X_test, y_test = preprocessed_mnist.load_dataset()"
      ]
    },
    {
      "cell_type": "code",
      "execution_count": 7,
      "metadata": {
        "id": "u2YdXUbaJu2t",
        "colab": {
          "base_uri": "https://localhost:8080/",
          "height": 687
        },
        "outputId": "203dcd4c-30d9-44a0-ad23-646f2f56d6fa"
      },
      "outputs": [
        {
          "output_type": "stream",
          "name": "stdout",
          "text": [
            "X_train [shape (50000, 28, 28)] sample patch:\n",
            " [[0.         0.29803922 0.96470588 0.98823529 0.43921569]\n",
            " [0.         0.33333333 0.98823529 0.90196078 0.09803922]\n",
            " [0.         0.33333333 0.98823529 0.8745098  0.        ]\n",
            " [0.         0.33333333 0.98823529 0.56862745 0.        ]\n",
            " [0.         0.3372549  0.99215686 0.88235294 0.        ]]\n",
            "A closeup of a sample patch:\n"
          ]
        },
        {
          "output_type": "display_data",
          "data": {
            "image/png": "[encoded data removed]",
            "text/plain": [
              "<Figure size 432x288 with 1 Axes>"
            ]
          },
          "metadata": {
            "needs_background": "light"
          }
        },
        {
          "output_type": "stream",
          "name": "stdout",
          "text": [
            "And the whole sample:\n"
          ]
        },
        {
          "output_type": "display_data",
          "data": {
            "image/png": "[encoded data removed]",
            "text/plain": [
              "<Figure size 432x288 with 1 Axes>"
            ]
          },
          "metadata": {
            "needs_background": "light"
          }
        },
        {
          "output_type": "stream",
          "name": "stdout",
          "text": [
            "y_train [shape (50000,)] 10 samples:\n",
            " [5 0 4 1 9 2 1 3 1 4]\n"
          ]
        }
      ],
      "source": [
        "# X contains rgb values divided by 255\n",
        "print(\"X_train [shape %s] sample patch:\\n\" % (str(X_train.shape)), X_train[1, 15:20, 5:10])\n",
        "print(\"A closeup of a sample patch:\")\n",
        "plt.imshow(X_train[1, 15:20, 5:10], cmap=\"Greys\")\n",
        "plt.show()\n",
        "print(\"And the whole sample:\")\n",
        "plt.imshow(X_train[1], cmap=\"Greys\")\n",
        "plt.show()\n",
        "print(\"y_train [shape %s] 10 samples:\\n\" % (str(y_train.shape)), y_train[:10])"
      ]
    },
    {
      "cell_type": "markdown",
      "metadata": {
        "id": "fTaABwJPJu2u"
      },
      "source": [
        "# Linear model\n",
        "\n",
        "Your task is to train a linear classifier $\\vec{x} \\rightarrow y$ with SGD using TensorFlow.\n",
        "\n",
        "You will need to calculate a logit (a linear transformation) $z_k$ for each class: \n",
        "$$z_k = \\vec{x} \\cdot \\vec{w_k} + b_k \\quad k = 0..9$$\n",
        "\n",
        "And transform logits $z_k$ to valid probabilities $p_k$ with softmax: \n",
        "$$p_k = \\frac{e^{z_k}}{\\sum_{i=0}^{9}{e^{z_i}}} \\quad k = 0..9$$\n",
        "\n",
        "We will use a cross-entropy loss to train our multi-class classifier:\n",
        "$$\\text{cross-entropy}(y, p) = -\\sum_{k=0}^{9}{\\log(p_k)[y = k]}$$ \n",
        "\n",
        "where \n",
        "$$\n",
        "[x]=\\begin{cases}\n",
        "       1, \\quad \\text{if $x$ is true} \\\\\n",
        "       0, \\quad \\text{otherwise}\n",
        "    \\end{cases}\n",
        "$$\n",
        "\n",
        "Cross-entropy minimization pushes $p_k$ close to 1 when $y = k$, which is what we want.\n",
        "\n",
        "Here's the plan:\n",
        "* Flatten the images (28x28 -> 784) with `X_train.reshape((X_train.shape[0], -1))` to simplify our linear model implementation\n",
        "* Use a matrix placeholder for flattened `X_train`\n",
        "* Convert `y_train` to one-hot encoded vectors that are needed for cross-entropy\n",
        "* Use a shared variable `W` for all weights (a column $\\vec{w_k}$ per class) and `b` for all biases.\n",
        "* Aim for ~0.93 validation accuracy"
      ]
    },
    {
      "cell_type": "code",
      "execution_count": 8,
      "metadata": {
        "id": "dsE_UT3sJu2v",
        "colab": {
          "base_uri": "https://localhost:8080/"
        },
        "outputId": "7706d893-d4d9-4338-d7a6-3c1af1ebb359"
      },
      "outputs": [
        {
          "output_type": "stream",
          "name": "stdout",
          "text": [
            "(50000, 784)\n",
            "(10000, 784)\n"
          ]
        }
      ],
      "source": [
        "X_train_flat = X_train.reshape((X_train.shape[0], -1))\n",
        "print(X_train_flat.shape)\n",
        "\n",
        "X_val_flat = X_val.reshape((X_val.shape[0], -1))\n",
        "print(X_val_flat.shape)"
      ]
    },
    {
      "cell_type": "code",
      "execution_count": 9,
      "metadata": {
        "id": "Rd8SLJh5Ju2v",
        "colab": {
          "base_uri": "https://localhost:8080/"
        },
        "outputId": "9a138377-c83d-4964-a03f-a592187ba285"
      },
      "outputs": [
        {
          "output_type": "stream",
          "name": "stdout",
          "text": [
            "(50000, 10)\n",
            "[[0. 0. 0. 0. 0. 1. 0. 0. 0. 0.]\n",
            " [1. 0. 0. 0. 0. 0. 0. 0. 0. 0.]\n",
            " [0. 0. 0. 0. 1. 0. 0. 0. 0. 0.]] [5 0 4]\n"
          ]
        }
      ],
      "source": [
        "import keras\n",
        "\n",
        "y_train_oh = keras.utils.to_categorical(y_train, 10)\n",
        "y_val_oh = keras.utils.to_categorical(y_val, 10)\n",
        "\n",
        "print(y_train_oh.shape)\n",
        "print(y_train_oh[:3], y_train[:3])"
      ]
    },
    {
      "cell_type": "code",
      "execution_count": 10,
      "metadata": {
        "id": "14GprdT9Ju2w",
        "colab": {
          "base_uri": "https://localhost:8080/"
        },
        "outputId": "854f7c26-7d53-4ede-c1c6-787ea1235361"
      },
      "outputs": [
        {
          "output_type": "stream",
          "name": "stdout",
          "text": [
            "WARNING:tensorflow:From /content/keras_utils.py:68: The name tf.get_default_session is deprecated. Please use tf.compat.v1.get_default_session instead.\n",
            "\n",
            "WARNING:tensorflow:From /content/keras_utils.py:75: The name tf.ConfigProto is deprecated. Please use tf.compat.v1.ConfigProto instead.\n",
            "\n",
            "WARNING:tensorflow:From /content/keras_utils.py:77: The name tf.InteractiveSession is deprecated. Please use tf.compat.v1.InteractiveSession instead.\n",
            "\n"
          ]
        }
      ],
      "source": [
        "# run this again if you remake your graph\n",
        "s = reset_tf_session()"
      ]
    },
    {
      "cell_type": "code",
      "execution_count": 11,
      "metadata": {
        "id": "DG7N2ZEPJu2w"
      },
      "outputs": [],
      "source": [
        "# Model parameters: W and b\n",
        "W = tf.get_variable(\"w\", shape=(784, 10))\n",
        "b = tf.get_variable(\"b\", shape=(10, ))"
      ]
    },
    {
      "cell_type": "code",
      "execution_count": 12,
      "metadata": {
        "id": "n0b8w9IbJu2x"
      },
      "outputs": [],
      "source": [
        "# Placeholders for the input data\n",
        "input_X = tf.placeholder('float32', shape=[None, 784])\n",
        "input_y = tf.placeholder('float32', shape=[None, 10])"
      ]
    },
    {
      "cell_type": "code",
      "execution_count": 42,
      "metadata": {
        "id": "JpHu0E1LJu2x"
      },
      "outputs": [],
      "source": [
        "# Compute predictions\n",
        "logits = tf.matmul(input_X, W)+b ### shape should be [input_X.shape[0], 10]\n",
        "probas = tf.nn.softmax(logits)\n",
        "classes =  tf.argmax(probas, 1)\n",
        "\n",
        "# Loss should be a scalar number: average loss over all the objects with tf.reduce_mean().\n",
        "# Use tf.nn.softmax_cross_entropy_with_logits on top of one-hot encoded input_y and logits.\n",
        "# It is identical to calculating cross-entropy on top of probas, but is more numerically friendly (read the docs).\n",
        "loss = tf.reduce_mean(tf.nn.softmax_cross_entropy_with_logits(logits=logits, labels=input_y)) ### cross-entropy loss\n",
        "\n",
        "# Use a default tf.train.AdamOptimizer to get an SGD step\n",
        "step = tf.train.AdamOptimizer().minimize(loss)\n",
        "### YOUR CODE HERE ### optimizer step that minimizes the loss"
      ]
    },
    {
      "cell_type": "code",
      "execution_count": 47,
      "metadata": {
        "scrolled": false,
        "id": "6H8ZmdanJu2x",
        "colab": {
          "base_uri": "https://localhost:8080/",
          "height": 309
        },
        "outputId": "a68392c1-eaa1-4cf9-b9af-01801d100939"
      },
      "outputs": [
        {
          "output_type": "display_data",
          "data": {
            "text/html": [
              "<img src=\"data:image/jpeg;base64,/9j/4AAQSkZJRgABAQEASABIAAD/2wBDAAIBAQEBAQIBAQECAgICAgQDAgICAgUEBAMEBgUGBgYFBgYGBwkIBgcJBwYGCAsICQoKCgoKBggLDAsKDAkKCgr/2wBDAQICAgICAgUDAwUKBwYHCgoKCgoKCgoKCgoKCgoKCgoKCgoKCgoKCgoKCgoKCgoKCgoKCgoKCgoKCgoKCgoKCgr/wAARCAEgA2ADASIAAhEBAxEB/8QAHwAAAQUBAQEBAQEAAAAAAAAAAAECAwQFBgcICQoL/8QAtRAAAgEDAwIEAwUFBAQAAAF9AQIDAAQRBRIhMUEGE1FhByJxFDKBkaEII0KxwRVS0fAkM2JyggkKFhcYGRolJicoKSo0NTY3ODk6Q0RFRkdISUpTVFVWV1hZWmNkZWZnaGlqc3R1dnd4eXqDhIWGh4iJipKTlJWWl5iZmqKjpKWmp6ipqrKztLW2t7i5usLDxMXGx8jJytLT1NXW19jZ2uHi4%2BTl5ufo6erx8vP09fb3%2BPn6/8QAHwEAAwEBAQEBAQEBAQAAAAAAAAECAwQFBgcICQoL/8QAtREAAgECBAQDBAcFBAQAAQJ3AAECAxEEBSExBhJBUQdhcRMiMoEIFEKRobHBCSMzUvAVYnLRChYkNOEl8RcYGRomJygpKjU2Nzg5OkNERUZHSElKU1RVVldYWVpjZGVmZ2hpanN0dXZ3eHl6goOEhYaHiImKkpOUlZaXmJmaoqOkpaanqKmqsrO0tba3uLm6wsPExcbHyMnK0tPU1dbX2Nna4uPk5ebn6Onq8vP09fb3%2BPn6/9oADAMBAAIRAxEAPwD9/KKKKACiiigAooooAKKKKACiiigAooooAKKKKACiiigAooooAKKKKACiiigAooooAKKKKACiiigAooooAKKKKACiiigAooooAKKKKACiiigAooooAKKKKACiiigAooooAKKKKACiiigAooooAKKKKACiiigAooooAKKKKACiiigAooooAKKKKACiiigAooooAKKKKACiiigAooooAKKKKACiiigAooooAKKKKACiiigAooooAKKKKACiiigAooooAKKKKACiiigAooooAKKKKACiiigAooooAKKKKACiiigAooooAKKKKACiiigAooooAKKKKACiiigAooooAKKKKACiiigAooooAKKKKACuN%2BOP7QHwm/Zx8JW/jT4veJ5dPtL7U4dN0u2stLub%2B91K9lDGO1tLO0jluLudlR2EUMbvtR2xhWI7KvFv2u/gP8VPiX4h%2BGfxl%2BBd14fl8X/CrxjPrWmaJ4tu57bTdYhudLvdMubaW4ghmktH8q9aSOdYZtrR7TGyu2ACjpH/AAUr/Y71rxm3w8tvHviCDW7fSodU1bTtR%2BHOvWkmi2EhuAt3qXn2SDTIAbWcNLdmFEKYYqWUGbwn/wAFH/2NfGfg/wAQ%2BOtM%2BLFza6f4Y0e11fVBrnhPVdMuJNPuXMdreWtvd2sU19bzyAxwy2ySpM5CRlmIB86vP2GPjP8AHW0/aRP7Qt74V8My/tB/CPTvBskfgrWLrUzo7RWusWsr%2BbcWtqZ1VNRiZDsXeyygogxuy9Y/Y2/at%2BM%2Btaz8UP2lPh38G9X1e0%2BE6eBtB8E6d4n1QaRrSy6jaXt5fXd2bBJ9PYmyg%2BzxQw3BtnDP50hIwAeyX/7fP7N2k%2BAbH4h6tdeOLSHVPED6Jpeh3Xwj8SR67e3yW5uXjh0dtPGoShYAZTIluUCKzFsA49P8JeOfDfjbwTY/EPRbi5i0rULBbyCTVNPnsZY4iu7MsFykcsDAfeSRVZSCGAIIr41tv2Gf2tJfgpJ4W8feGPCnjS%2Bh%2BIcut%2BC9B1n9ofxXb3fgOxOmxWoi0/xbHp7atcSGUXcreZDGBHeGENsjGfUvB/7Bmq%2BKfgJo3hb9pz46%2BOPEfj5PhtdeFtf8Q6T8Q9at9Muhc2tzbyTPpa3SWN5MiXTBbq4tmmdoopWKuibADc8Mf8FJP2MvF/h7xJ4s0b4tXK6Z4W8GXni6/vr7wlqtpFe6BaruuNU09p7VBqtogK5nsvPQmSMAkyIG4n40f8FdP2YfAf7M/wATf2gfhW%2Bs%2BM7v4b%2BDYfEjeGW8L6xps2r2Nw7R2t3avNYFrixlkRh9vgjmtkVWdnCqSPHfC/8AwSh%2BNC/BPxf8LPFnh3w9J4h/4UL4j8A%2BC/Hmo/tD%2BNvECSXGpWEdp5h0jVUkttGtpDDE8scEl0yeVGqFggz6P%2B1L/wAE5vih%2B0BYeKtE0Pxj4d0q2179le%2B%2BGlrLM87GDVpLiOWGdo1iANqNhBIbzBnhO9AHqkv/AAUU/ZZt/E3hrwJeav41tvEni7TpdQ0HwpefCTxLDq8tnFd/Y5LmSwk08XNvCkxG6SaNEVGWUkRsrmXwN/wUT/Y7%2BJGqarpXhD4tyXB0rQ9Q1lbufw1qVvaapp1iwS8u9NuZrdYdVhhYqHeyedVLqCfmGcXwR8APjz4x/apsf2oPjn4f8HeH5JPg5f8Ag/VNE8J%2BK7vVTBcy6tHcpJDcz6fZl4mgiUsTGjJIdoV1USHwGb9hz9pf4bfs8%2BF/Cnxo1rwIPCP7N3wP8SaB4L1PwrfXcmpeKd2hHTLe4vbeW2ii04JZozSQxS3QknZXDxqgQgH0D4U/4Kl/sL%2BNPBus/ELQ/jLdrouheDj4tutRv/BmsWcdzoIKB9Vs/PtEN/ZxmRBJPbCWOLcPMZc167a/GD4c3vxcuPgVZ%2BIxN4qtPDUGv3emRWsrCHTp55beGd5QnlL5ksE6ohfe3kyEKQjEfFX7I/7P3xC8WfBL4Q/Hb9t/Uvhlovww%2BG/7L9z4fgk07W5wmr6bqmnaWby%2B1X7VBDDpkEVppyq0CS3CZleRplWNVrsP%2BCK3wr8d6P8As76n8evit4tbxFrHjW%2Bg03w54hlgaOS%2B8I6JF/ZWiXBD8/6VDDNqhPd9WcgKCFAB9lUUUUAFFFFABRRRQAUUUUAFFFFABRRRQAUUUUAFFFFABRRRQAUUUUAFFFFABRRRQAUUUUAFFFFABRRRQAUUUUAFFFFABRRRQAV4jpH/AAUY/Y91K716z1P4pXnh5vDnhy58QahJ418I6roMc2k27pHPf2smpWsC31ujyRK0tsZUBljGcuufab2K5ms5YbO6EEzxMsUxj3%2BWxHDbT1wecd6/MTV/%2BCOX7cvxf1bwvrnxu%2BOOhvrfhrwfqFnqHijUPit4m8TjxDrf2zSr611E6XfRQ2Wk20lzpi%2BfYWQCiOTassgVAoB9sv8At/8A7MNr8NG%2BLGseIPFWlaW2uQaNY2eufDLX7DVNTv5kMkMFlptxYpe37SIGdfs8MgZUdgSEYjovAf7VnwP%2BI%2Bv2XhPw54h1SHV7/wAKT%2BJIdI1rwrqWmXaabDd/ZJZZYby3ikgdZ/kMMirL32bea8m%2BJ3wc/bd%2BMTfD342654N%2BFWh/EP4UeOptY8P%2BGbXxxqV/ouuWdxpN3plzHcXz6VDNYzFL2SSN0tbgRmIKfMEjYq/En4Dftwa/8ZfDv7TXgfRvhXaeLL74Yar4L8Y6FqXivUpLDSFuL%2BG6tb%2ByuE04SagYhG6yW8sVoJS4xLFjkA7jSf8Ago3%2ByB4j17wL4W8K/EbVdZ1P4k%2BDdK8W%2BDdO0TwPrN7PeaHqL7LXUZEgtGa1t92PMknEa24ZTN5QYE7Hw1/bc/Zu%2BK/xGufhP4Z8X6tZ6/b6Xc6nDZeJ/BmraIt/Y28iRz3dlLqNrBHfwRvLEHltmkRfMQkgMpPlH7Cn7CXxY/Zh1/4caz488QeGrs%2BDv2UvCPwxv30i5nlZtW0t5muZovMgj3Wrb02MxV22/NGmBXjXw0/4JV/tjeJ/ij4X8TftTfGGz1SLT/AHivwv408TQfF/xJrV54il1exS2/tO10y%2Bhj0/QjlSxtLRSi5UCZxGq0AfUvhP/gov%2ByP410WPxVoPjvXP7DuNV0vT9P8AEt78P9btdK1GXUr2OyspLS%2Bns0tryCW5mijFxBI8IMqFnCsCfS/C3xd%2BHnjX4geKfhd4X8Q/a9c8FyWcfie0S0mC2Ml1B9ogjMrII3doSshRGZkWSMsFEibvmHxx4E%2BIvhX/AIJ7eNPgR/wUM8T/AAq8EeAtB%2BGkWgW3xM8O%2BLbsM06RpbWupPaXVnAmmzLMLeSGCO4umM5REcnaG7X/AIJX/D74seG/2RNK%2BKv7RVglv8TvixfS%2BOviJCtu0X2e/v1jMNpsb5k%2By2MdlZ7TkgWuDQB9G0UUUAFFFFABRRRQAUUUUAFFFFABRRRQAUUUUAFFFFABRRRQAUUUUAFFFFABRRRQAUUUUAFFFFABRRRQAUUUUAFFFFABRRRQAUVzHxo0Pxb4j%2BFut6R4F%2BJWpeD9Vksy9p4j0iytLi5sijB2Mcd5DNAzMqsn7yNwN%2BcEgV55%2BzR4s%2BJXx9/4J8/DP4heJPi1d6J4q8XfCjQNW1nxnYafY%2BfDd3Gn289zcpDNC1qjFmkIDRGJd33CBtoA9qrxf49eP/2i/wDhovwL8CPgL4z8FeH01/wV4l17V9T8X%2BC7vWiTp13odvDDDHb6lY%2BWG/tSVmZmfPloAF5JrfsEfEb4kfFL4W6/4r8X%2BPtQ8YeHG8Z3cXw08b6xptraXviPQFgtwl9LHZwwQMrXf21YZYoY0ntY7aYKfN3tzmtfGXw14l/4KpfD74baZpevw3Wk/Bnx8l7car4T1GwtpZP7W8HlfstzcwRwXy7Q%2B5rd5VTC7iu9cptLcuEJVHaPZv7tWdd/wg//AAUL/wCjoPgz/wCGH1b/AOaij/hB/wDgoX/0dB8Gf/DD6t/81FezUUyDxn/hB/8AgoX/ANHQfBn/AMMPq3/zUUf8IP8A8FC/%2BjoPgz/4YfVv/mor2aigDxn/AIQf/goX/wBHQfBn/wAMPq3/AM1FH/CD/wDBQv8A6Og%2BDP8A4YfVv/mor2aigDxn/hB/%2BChf/R0HwZ/8MPq3/wA1FH/CD/8ABQv/AKOg%2BDP/AIYfVv8A5qK9mooA8Z/4Qf8A4KF/9HQfBn/ww%2Brf/NRR/wAIP/wUL/6Og%2BDP/hh9W/8Amor2aigDxn/hB/8AgoX/ANHQfBn/AMMPq3/zUUf8IP8A8FC/%2BjoPgz/4YfVv/mor2aigDxn/AIQf/goX/wBHQfBn/wAMPq3/AM1FH/CD/wDBQv8A6Og%2BDP8A4YfVv/mor2avPviB4/8AgZ8NBqfjD4%2B%2BOPCnh/TzrUWn2WpeMNUtrSDzDaRyrBHJcsq7yBK%2B0HJCsccHEznCnFym0kurdl97sjbD4fEYuvGjQhKc5OyjFOUm%2ByjFSk3o9Em9Njmv%2BEH/AOChf/R0HwZ/8MPq3/zUUf8ACD/8FC/%2BjoPgz/4YfVv/AJqKr/8ADX//AATg/wCjovgj/wCFto//AMdo/wCGv/8AgnB/0dF8Ef8AwttH/wDjtc31/Af8/of%2BBw/%2BSPa/1S4s/wChdiP/AAnr/wDygsf8IP8A8FC/%2BjoPgz/4YfVv/moo/wCEH/4KF/8AR0HwZ/8ADD6t/wDNRXYfDTxJ%2Bzl8aNCl8U/B3X/BPizTLe7a1n1Hw1dWd/BHOqq7RNJAWUOFdGKk5AdTjBFeT/EH9tn9k74Q/Gv4ifCL4seB9Q0O0%2BGngbTvFPiHxbJ8P7%2B40qKyuRfMxa5gtHij8tLInLP%2B8Z2jj3PDKq9MJwqRUoNNPqndfero8XEYfEYSvKjXhKE4uzjJOMk%2BzjJRknqtGk9djqP%2BEH/4KF/9HQfBn/ww%2Brf/ADUUf8IP/wAFC/8Ao6D4M/8Ahh9W/wDmoqJv2m/2ULabw3HrHhPXtKh8V3ENvpF/rnwf1uwtFmmvXsreO5ubiwSGyea4UJEtw8TS%2BbCyBlmiZ%2BZ139un9inwFaE/Emaxt7tr3xWsNr4b8D6trBFn4f1U6bqN1KLfTd8KQStEJmZfKQuxSWaJRO1GJ1f/AAg//BQv/o6D4M/%2BGH1b/wCaij/hB/8AgoX/ANHQfBn/AMMPq3/zUV32gR/BjxXcT2nhePwxqM1tDBNcw2K28rwxzp5kLuq5KiRPmUnG5eRkV4f%2Bz9%2B1Vonxo%2BKWjeF9c/Zu0TQ/DHjnTdd1D4Z%2BJIdVS7n1a30q9htZjd2ptIxYtMk8dzAqS3G6EP5hhdRGQDsv%2BEH/AOChf/R0HwZ/8MPq3/zUUf8ACD/8FC/%2BjoPgz/4YfVv/AJqK43xZ%2B1Vonhr48aj4Ht/2btDufAnh74iaL4D8T%2BNW1VI7y01/VbSzuLRItP8AshWe1zqWmwvOblGWS6IETiJ2quP2srLwj4X%2BOviD4yfsv6FpM/wZvIks9O8P63HqUniCO4sorqzUNJZ26208pmji8smREZgTKRkgA7r/AIQf/goX/wBHQfBn/wAMPq3/AM1FH/CD/wDBQv8A6Og%2BDP8A4YfVv/morjtF%2BOfxN1rw1420qb9ln4W6V43%2BG%2BswReMdJ1v4iTw6NFpc2nLfR6hb6lHokkso2v5bRyWkO14Z/mKojS8j4w/a7%2BN%2Bhfsb%2BBf2vNF/YT%2BHUq%2BMtE0Oc%2BD9Y%2BJNxZ6hFqOr3cFtp%2BnwbNBlWd5GurYFpPIKM7qUwhYgHr//AAg//BQv/o6D4M/%2BGH1b/wCaij/hB/8AgoX/ANHQfBn/AMMPq3/zUVwcf7YfgyP9oVfhnq3wG8MWXhGf4pv8ObTxNPrsX9pyeIF0o6kAdM%2ByYW1dFMay/aTKWZH8gRN5oqa7%2B2LF8GZ/HWlftQ/sueFvD%2BpeEPh9beLrO08HeKI9aW9t7i7ms4LOaSexshaXUlxGsaA74W3ORNiJ8AHo/wDwg/8AwUL/AOjoPgz/AOGH1b/5qKP%2BEH/4KF/9HQfBn/ww%2Brf/ADUV5B4z/bx8L%2BAP2ffDvxs8RfD34CSQ%2BJvHb%2BHbfxFpvxnin8HaWi2M1z9o1HXv7JAtGMlu9qsQtpA08tum/wDe/L0fhn9qy98Tn9nnxJD%2ByPoll4Y%2BOkws7rUNR11I77Qr1tF1LVY1S0FkVvIWj05wJWlgOJ42EZ%2BZQAd5/wAIP/wUL/6Og%2BDP/hh9W/8Amoo/4Qf/AIKF/wDR0HwZ/wDDD6t/81FcNa/tcaHL8aY/C8v7MWlt4Dv/AIgap4G0TxdaajHLqF5r%2Bn6fc3k8Z037KFS2LWN5apN9pZ2nhUGFUkWSuO/Zk/4KCaL%2B1H4D8a%2BKPBfwJ%2BE0Nx4T8I6V4hluJPiekmkaZHdNcGfTtbvl0rOj6lZw20ktxa%2BTcCMMgaQBtwAPav8AhB/%2BChf/AEdB8Gf/AAw%2Brf8AzUUf8IP/AMFC/wDo6D4M/wDhh9W/%2BaivIfBf7c8/xg8EeEj8B/2TPB3ivxf4p/4Si6tdPt/GiJoV5peg3UFrdahp%2BrLpzm%2BhmmvLGO3b7NEshuCWaNYyxy5P%2BCnfwZ1j4s/D7wV4E%2BBvhe80v4h6Z4P1HQotX8QxWPiLVrPxAymO80vSfskg1G2s4m868l%2B0ReRHDcHa3lDeAe5f8IP/AMFC/wDo6D4M/wDhh9W/%2Baij/hB/%2BChf/R0HwZ/8MPq3/wA1Fcd4Y/aV/tr9qfxP%2ByfL8C/hnqPiHSPCuo63YxeEPHq6nNZiCW2S1ttbhbTYTo0t4l3HJCM3AZYbkgsIgz8n4j/bssPBv7G2nftMeNv2dfhzoGsz/FvUfAOr6Tr/AI/W00PS7mz8R32hy3kmrvpm77PvsmmDNaKcSBSBjcQD13/hB/8AgoX/ANHQfBn/AMMPq3/zUVQ8D%2BOP2rPB37Vnhz4I/G74j/D3xNo3ib4e%2BIdchm8K/Dy%2B0W6tLrTb7RLdFZ7jV75JY3TVJSVCIwaJCGxkHsfCx0jxX8ELf4jyeG/CNtqF5oLX8Nz4M1YalYqxjLxyWt99nga4jI2ssnlpnPTHXnfHH/KQv4X/APZGfHn/AKdvCFAHs1FFFABXm37WX7SulfsjfBHVvj14j%2BF/ivxXpOgwyXOtWng%2BGze5s7OOKSaa7cXlzboYo0jOQrlySoVGJxXpNeM/8FBPhP8AGr4%2Bfsf%2BPPgN8BNG8LXeveN/Dd7oXneL/EdzplpZQ3VtLE1z5lvZXbyOhZSIvLUMCf3i4GQDsPj18dPD/wAAfB1p4n1fw1rGvXuq63aaP4f8OeHo4GvtWv7l9sVvD9olhhU4DyM8sscaRxO7OoUmvJ/Ef/BTX4QaH4H07xnpvwp8f6zNJpOvap4n0HSNMsnv/Cllol59h1aa/SS7RCba63Q%2BVavcSzmNzbpOqlq2PjZ8Mf2l/jN4K8JeKB4O8C6P428B%2BMdM8T6JpI8aXl1pl/OkNxbXlnNd/wBmRywIbe6nWOdbeQ7yjtEApQ%2BNXv7Af7Vvhnw1qGv/AA51z4fz%2BLviB4a8a6R8QI9X1a9jsNHk1/WJNTiurB0tHe9Fj580Hkypbfahscy2xBUgH2ppupafrOnW%2Br6TexXNrdwJNbXELhkljYBldSOCCCCD7188fCbxV%2B3f8ddH17x34X%2BN/wAJNA0u3%2BIXirQ9L0q/%2BD%2BqX9xFa6Xr1/pkLS3CeIoFlkeOzV2ZYo13OQFAAr2a3%2BEfhiL4P2fwTe/1iPSLPQ7fSkuNM1y60%2B9EMMaxqyXVpJFNC%2BEHzxup688149%2Bw54d0/wAK/spXvg/TLm/ls7T40%2BOLFJNS1W4vbmWH/hPNWjIluLh3mndkyGkkdncklmJJNAHR/wDCD/8ABQv/AKOg%2BDP/AIYfVv8A5qKP%2BEH/AOChf/R0HwZ/8MPq3/zUU/X/ANqD/gn74U1298LeKf2iPg5pup6bdyWuo6dqHi7SoZ7WeNikkUkbyhkdWBVlYAgggjIqp/w1/wD8E4P%2Bjovgj/4W2j//AB2uV47Ap2dWH/gcf/kj3ocK8U1IKcMvxDTSaaoV2mnqmmqDTTTTTTaaaabTTLH/AAg//BQv/o6D4M/%2BGH1b/wCaij/hB/8AgoX/ANHQfBn/AMMPq3/zUU/QP2oP%2BCfvivXbLwt4W/aI%2BDmpanqV3Ha6dp2n%2BLdKmnup5GCRxRxpKWd2YhVVQSSQAMmr37VfxL%2BFX7KH7N/jX9pLxT8Ll1bT/BXh641W603SNEE1xcrEudiLHGxGTjLkbUXLuVVWYa0q9Cum6c1K3Zp/k2efjsrzPK5xhjcPUpOSulUhOm2trpThBtX0uk1fS99DO/4Qf/goX/0dB8Gf/DD6t/8ANRR/wg//AAUL/wCjoPgz/wCGH1b/AOaiqGk/tZ/sf6543l%2BGul%2BGtfl8Q23hxde1DRf%2BFNa6t1p9g8d28Ut1G2nhrVpfsNysUcwSSZ4xHGru6KztM/ac/Zg8TSeHf%2BEV0ywQ6z46m8K3th4l8Jajo%2Bo2N9Ho11q5hayubATJKbW3WZVuFt43hk8xZWYxRzanCXf%2BEH/4KF/9HQfBn/ww%2Brf/ADUUf8IP/wAFC/8Ao6D4M/8Ahh9W/wDmoqh8FP2v/wBhf9oLRpvEfw28TaX/AGdF4f0/XUv/ABF4Ru9FgudLvmZbW9gk1G2gW5t5HUoJYi6h8ISGIFXf2jfiI3wr1/wf8NPhB8APDXi7xn42vbxNK0vWtVXSLGC1s7Vri5uZ7pLO6dAP3MSqsLlpLiPOxA7qAO/4Qf8A4KF/9HQfBn/ww%2Brf/NRR/wAIP/wUL/6Og%2BDP/hh9W/8Amorntf8A2pPhbB%2Bxb4a/a/8ACfwUsrweLx4dt9G8O6oYLPyL/WL%2B00%2BCC7uRHItvHFc3iLNKqybVjkKLIdqtxVr%2B24viK%2BsvhZ4J/Zm8BXnxKTxd4g0DxFo1945W20LTp9Htbe7udmqDTXknZoLy0dIzaRt803meUIHNAHq3/CD/APBQv/o6D4M/%2BGH1b/5qKP8AhB/%2BChf/AEdB8Gf/AAw%2Brf8AzUV4Fr3/AAVQ%2BCj658NB4C%2BBXha%2B0v4k%2BDvCniLRINd8SwadrWsw65eNbLbaLYC0mXV7izCiW7QTwiFJYjuYPkdrZ/tweANO8Z3Gq/EL9nzQ9E%2BGVzrvi3RPD3jpNSS4u7q/8Ni9Ooi408Wii3hZdL1RoZEuJmkWzyyR%2BalAHpH/AAg//BQv/o6D4M/%2BGH1b/wCaij/hB/8AgoX/ANHQfBn/AMMPq3/zUVlfsZ/G/wAP/tYeEtR8b3Pw3%2BGFjaQPbi2svCPju38Q3tk0iF2tdUSKzijsLyNTGHgSW4UMzASEKGb2bwYNmhmBSdkN9dxRAnO1EuZFVfoFAA9hQB5d/wAIP/wUL/6Og%2BDP/hh9W/8Amoo/4Qf/AIKF/wDR0HwZ/wDDD6t/81FezUUAeM/8IP8A8FC/%2BjoPgz/4YfVv/moo/wCEH/4KF/8AR0HwZ/8ADD6t/wDNRXs1FAHjP/CD/wDBQv8A6Og%2BDP8A4YfVv/moo/4Qf/goX/0dB8Gf/DD6t/8ANRXs1FAHjP8Awg//AAUL/wCjoPgz/wCGH1b/AOaij/hB/wDgoX/0dB8Gf/DD6t/81FezUUAeM/8ACD/8FC/%2BjoPgz/4YfVv/AJqKP%2BEH/wCChf8A0dB8Gf8Aww%2Brf/NRXs1FAHjP/CD/APBQv/o6D4M/%2BGH1b/5qKP8AhB/%2BChf/AEdB8Gf/AAw%2Brf8AzUV7NRQB4z/wg/8AwUL/AOjoPgz/AOGH1b/5qKP%2BEH/4KF/9HQfBn/ww%2Brf/ADUV7NRQB4z/AMIP/wAFC/8Ao6D4M/8Ahh9W/wDmoo/4Qf8A4KF/9HQfBn/ww%2Brf/NRXs1IzKqlmIAAySe1AHjX/AAg//BQv/o6D4M/%2BGH1b/wCaij/hB/8AgoX/ANHQfBn/AMMPq3/zUV3Hij4//AjwQWXxp8bPCOkFPvjVPElrb7fr5kgxXnfin/gpn/wT78HhjrH7YfgCTZ94ab4ihvT%2BVuXNctXG4Kh/Eqxj6yivzke5geF%2BJszt9TwFerf%2BSjVkvvjSa/Euf8IP/wAFC/8Ao6D4M/8Ahh9W/wDmoo/4Qf8A4KF/9HQfBn/ww%2Brf/NRXm1//AMFr/wDgngbltO8H/FnWPFN4vW08NeCtUuHJ9ibdVP4NUX/D2fRtZ4%2BHn7BX7SfiJW/1d1ZfC5o7dvcySTDA/CuT%2B3cn%2BzXjL/DeX/pMZH0a8K/Ea16uV1aa/wCnqhR/9P1aP5Hp3/CD/wDBQv8A6Og%2BDP8A4YfVv/moo/4Qf/goX/0dB8Gf/DD6t/8ANRXmP/DwP9sHXf8AkRP%2BCT/xLuN33P8AhIPEWn6Vn6%2BYWxR/w1D/AMFYNa50r/gl3oejq33W1n41afPj3Ihjz%2BFL%2B2sE/hU5elOo/wD2xD/4hnxLD%2BPUwtL/AB43Bxf3KvN/genf8IP/AMFC/wDo6D4M/wDhh9W/%2Bairf7K3xG%2BNPjDWPih4E%2BOmv%2BF9W1TwD8QotDs9V8J%2BGrnSbe6tZdB0fU1Z7e4vbxlkWTUZULCXaVjQ7VOc%2BT/8Lf8A%2BCyE3zR/se/CWEHos3xBmYj6lUroP%2BCdmq/GbW9c%2BPOqftBeE9G0PxfL8ZoP7X0vw/ftc2kGPCPhsReXKwBbMIjY56MzDtXRhsfTxU3GMJx0v70HFfe%2BvkePnfCmKyLCqvVxWGqpvltRxFOtJaN3cYK6jpZyva7S6n0nRRRXcfLhRRRQAUUUUAFFFFABRRRQAUUUUAFFFFABRRRQAUUUUAFFFFAGJ8Rvh/4f%2BKngnUPh94qudXh07VIRFdyaD4hvdKuwoYNiO7sZYriEkgAmORSQSpyCQfM9O/YB/Zk039nW5/ZNi0TxbP8AD678MHw7L4dvvih4guVXSyV/0VJpb5po0CqIhscERZiBEZKH2eigDlfg98GvBnwL8Jt4K8B3viOawNyZ1HibxnqeuTRnYkexJ9SuJ5Y4gsa4iVhGp3EKCzE%2BE/tAax/Zn/BWT9mqy3Y/tH4X/Ey3x64l8Ly/%2B0q%2BoK%2BNv2w9XOl/8Fjf2MoS2EvfDHxQt3P/AG4aM4H5oK5sZP2dHm84/jKK/U9zh3D/AFvM/Zf9O6z/APAaFaX/ALafZNFFFdJ4YUUUUAFFFFABRRRQAUUUUAFFFFABXE%2BK/hF8J/jRBq/hb4xfDDw74s0y38QRXUGneJtFgv4I51soUWVY50ZQ4V3UMBkB2GcE121eT/Hf9q34BfsfeGtR%2BJf7Rfj3/hHdEvvFcOmWt7/Zd1d77p9PSVY9lrFI4ykMp3FQvy4zkgHHETw9OhKVdpQS15rWt530t6jWPllT%2BtxrOk6evOpODj0upKUXHfdSW%2B%2Bon/DA/wCwr/0ZZ8Jf/Dc6Z/8AGKP%2BGB/2Ff8Aoyz4S/8AhudM/wDjFeSf8Pzf%2BCWX/R0X/lk65/8AIVH/AA/N/wCCWX/R0X/lk65/8hV4v17hX/n5Q/8AKf8Akaf8RSxP/Q9n/wCFlX/5oPpL4afCL4T/AAX0KXwt8Hfhh4d8J6ZcXbXU%2BneGtFgsIJJ2VUaVo4EVS5VEUsRkhFGcAV4r%2B0r%2Bwv4r%2BPHi74lan4f%2BM%2Bm6Fo/xV%2BF9h4Q8S6de%2BEJL64hayl1OS2u7adb2FUGdTkEkTxSbxEm14yWJ9J/Zo/at%2BAX7YPgS7%2BJf7Onj3/hItEsdXk0y6vf7LurTZdJFFK0ey6ijc4SaI7gpX5sZyCBj/Er9sv4YfCvxZ4l8C%2BJdB159Y8OS%2BGI49PtbWBpNW/t%2B/fTtPa03TKHBu4ponLmPZ5LsfkAY%2B1h54epQjKg04NactrW8raW9DN4%2BWav63Ks6rqa87k5uXS7k5Sctt3J7b6HlX7X3/BMeX9qz49W/xlufil4ds4oZfDE1vHr/AMO01jUtHk0fVjqBGk3r3cY01LvIiuNsLu4UEOMBRseHf%2BCdi6Druq62fi%2BJv7T0H4mab5f/AAj23yv%2BEu8RQ6zvz9oOfsnleRt48/dvzFjYea%2BPX/BWP4d%2BDvDfx78DfDTSreP4l/CP4S%2BLfF%2Bk6ZretaTqFpqB0WH5zNDpepTXVsnnS2uYbpbSZ0mOwZSTy%2B81b9vDQfD/AMR/Enwp034deK/GviXT/iBc%2BH9L8M%2BE9Gs4Low22iaZql1cmW81BIZYYl1GEGVmgdnnjhSB2USS7CPVPgz8PvEfws8CaR8O9T8U2WqWGg%2BH9O0zTZINJe2mP2e2WGSSVjPIr72QMqqqbAdpMn3q8c%2BDv7Cvjn4P%2BNbPxBZfHTTNQ0zwVoXiLTfhFo114MdRoQ1a7iuWbUJFvgdTFuIIreJYxZnyPMDs8jCZey/Yg/aR1T9p79mX4efF3xZo5s9c8W%2BAdN8RajFY6JeW9hGbpCdkUkwZQwKtmEyNKgKlwAyk%2Bd%2BCf2xvjZr3x50GXVtN8LD4beMfjF4k%2BG2g6fb6bcrrVnf6PaapK%2Boz3TXJhlhln0S/iFutujIstu5lf51ABueKP2G/EHiP46X/AI3X4yW0HgfxB8QtE8eeKfBn/CMFru88QaVaWdvayQ3/ANqC29qTpumzPAbeR2ktSRMolcVj3v7B/wAYPHGt/HW2%2BLf7Q/hq98PfGa0QW1n4a%2BHVxp2o%2BH7q3t4LaxuVup9VuorkwxwI7KbdBJMAw8tAYjH%2B01%2B2N8bfhX8U/GL/AA80zws3g34TaL4b1Px3bazptzNqOsR6pfXEU0djNHcxx2jW1rb%2BeGkiuBPJKIsQhTIXfE39oL9sH4X/ALVN78NtHu/BHjvw/ZfDTxJ41u/C%2Bh%2BBL6y1m2gtnjh0jT/trarPFNcXc7zIHFoisLGchUJVQAaGq/sK%2BOvHnwY%2BK/gX4r/Huyv/ABP8Z7uzg8aeI9B8IyafaJo0UFtZzabaWj3s0kIlsorlPOe4kZZr2SUAqqQj0v4v/s/W3xb8afDTV7zxElloXw88VN4gfw7FpwZNUuo7G4tbNWcOBFHA9wbgKEbMsEJyuzn5L8M/8FWfiDqXgrxTp9n8RvhX4p1XR9M8FandePfDmhX0fh7wva65qVxY3g1KBr6WR2037K00x%2B0W%2BVnQSraCORx1Goft5fHDxd%2Bw542/ag%2BE/wAU/hs998MNW8QaXq92Ph9f6np3jK5tGUaedKjTWLdrcXYkt1TdLdKz3KhJHVRJIAeqeMv2HrD4j/tfaP8AtN%2BNbjwGbXw5qUWo6PFpHw2S28Q3M8Vk9vFFf6011I11axySyTpAkEOHSAM7CJhJxPg//gnF8Tta%2BC/xU%2BEX7T37QHhTx1c/FeOSfXvFumfDOfTdSe/DhrSSU3Gq3kMlraqkUcNmsUcapHyWLys/SfFz4z/td/BC8%2BGGqeK/EXw11J/FfiPw14a1bwLpfhe/XUtSv7uSNNVu7C7OoMkUFpCbq%2B8l7aY/Z7GQNMC29fPdG/4KirPrXxR%2BIeueLtAtfC3gFfG0Wl%2BB28CatHqesv4Ze6iu3i12SZdOmlZrKaX7DDBJNFBJG7uCHAAOrT9gL4xQ%2BKT8cLf9o/w2nxMf4ijxXPfD4azf8I3Iw0D%2BwhCdKGqefuFr84n%2B2%2BZ5nfyv3ILn9gT40%2BFvB3wK8C/Br9o/wtpdj8F9el1yQ%2BJfhncajJrF/LYalZShPs%2BrWiWdt5Wq3JjgVJPLKQgOUQo/JeM/25v2q/gvbaz8OvjTd/DO08R2tp4L1a48e22gX0Ph3wxpWvXWpWsst/byX7SSi0m0qVDP9pt45PtduzCAJJXG%2BPP%2BCs3xhj%2BCvh7xt8Of%2BEXu5yPHsWs%2BJdM%2BHWs%2BIbLVbjw7ew29u1rYWF2txZ2N9FKbk6jNLLa2YEcckknnxSsAe5Xv/BPzVNU%2BKs2o6h8cHj%2BH0fjjWPGek%2BEtP0BoNSstd1LTbqxuJP7T%2B0lWt1a%2BvbqOIWyyJPMrGZkjWOq3wS/Yf%2BPXwRjl8S6N%2B0j4QufFWnfD7RPBPhTUP%2BFVSwadbaRp08kgN9Zx6qHvbl1lZfMjnto48kpCoZ1Z3xG%2BPP7WOl/Fn4JWHgfxh8NZNJ%2BK%2BuWiXvhJ/CV3fXmn6ZDpcl/ql3Hq8GrJBKi%2BUsMUosyhkvLcEOCWOL8Qf2if24fh98Z/il8PtB1b4feOoPA3wM1Lxla6bofw21O0votXmlnXQtOdhq9yLvzhY6gZVjjikPlQ7NvmjABfsv8Agn78WvCf9n/Ef4a/tOaZo/xNTUvFM%2BreJpvADT6TJb6/LaT3tva6YL9Gtds2nWE0TtczESQyNKJvOeqFr/wS6/4RaTSvAPw7%2BNkOn/Dm0PgZr7w/qfhU3mrr/wAIqbU6fHZamLqNbOJ/sUHmI1tMQz3DxNE0xZcjVf29PjBoP7NCeNbbx94b17xh/wALE0rw9r8UHwO8RabdeFo7yFJMS%2BGZ759V1KfkFEgeMyRzCVUZIXLcs/8AwVS%2BImq%2BB/ANldeKfB/g/Wtb8MeI/EPijxRf/DbXNesrTT9M1htNjlfSrG6judMEgDT3RvLgDTGQ29xulJKAH0Pp/wCzh8ddU%2BPlt8fPiR8d/DGoXvhvw1rWkeB7LRPh7PYJbrqEtrIZNRd9Tma/8v7HBiOL7IjHexAJjMeJ8Av2Yv2ufgN8FtW%2BHVh%2B0x8N9S1u%2B%2BIWueJ7HWp/g5fJa2/9r6tf6re272v9vl5MXF%2B6wyLPHsjjVXWUkvTPiz%2B0x8Yvhl%2B1r8Ofhtp2t6BrfhL4iatFa2thF8PNUt2tLZrC5ma6/wCEja7bTJpvNtSyWAhW4kikBUEKZGxv2Bf27L/9sXWT4ivPiB4bg07xDoM%2BueEvBMPgHVrDUYtNS6SFbj%2B1Luf7LqwRZIUuBZwKltPOsTOxALgHp3wU%2BAtv%2BzR%2By9cfCSLxL/a8sC65qd/qKWC2kUt5qF5d6jc%2BTbqzC3txPdSLFCGbyolRNzbdxz/HH/KQv4X/APZGfHn/AKdvCFepeOf%2BRJ1j/sFXH/otq8t8cf8AKQv4X/8AZGfHn/p28IUAezUUUUAFFFFABRRRQAV4L%2Bx//wAm9av/ANl78c/%2BrA1Wveq8F/Y//wCTetX/AOy9%2BOf/AFYGq0AdZr/7E37GXivXb3xT4p/ZH%2BGOpanqV3JdajqOoeAdOmnup5GLySySPCWd2YlmZiSSSScmqn/DA/7Cv/Rlnwl/8Nzpn/xivO/H/wDwWU/4JufC/wAd638NPHX7R32HW/Dur3OmaxZf8IhrEv2e6t5Wilj3x2jI%2B10YblYqcZBI5rI/4fm/8Esv%2Bjov/LJ1z/5CrwZ43hhTalOje7vf2d79b6b3vc0/4ibiaH7pZ5OPLpb63VVraWt9YVrWtayta1lay9m0D9ib9jLwprtl4p8Lfsj/AAx03U9Nu47rTtR0/wAA6dDPazxsHjljkSEMjqwDKykEEAg5Fa37TXwTsv2k/wBnTx3%2Bz3qGvy6TD438I6hob6rBAJXs/tVu8ImCEgOULhtpIDbcZGc1414B/wCCyn/BNz4oeO9F%2BGngX9o77drfiLV7bTNHsv8AhENYi%2B0XVxKsUUe%2BS0VE3O6jczBRnJIHNe4/HX4w%2BHP2ffg94j%2BN/jLTNRutG8K6VLqesppUKSTxWcQ3TzBXdAyxxh5WGc7Y22hmwp9DA1strQk8HKDSevJy2v58qWtu5MuJKnEn72eNeJ5NLurKry31teVSpa%2B9k1fe3U8j8RfsTfELx/oPxdl8e/H21i8SfFv4d6b4Zvta8J%2BFZtNh02SzGohbmKKS%2BnkZHF%2BA0RmBxE2JB5g2cN8Ef%2BCU0Xwi8RQ%2BJofiT4QsNvxcHjl9B8BfC%2BPQNIgYeEbzw4bO2tUvJTCG%2B1C7aVnkZnRlI%2BcOnovxn/4KIfB34LaX4u1zVPDep6hY%2BCvFtn4b1jUR4g0HSrR7%2B402LUQkNxq%2BpWcMmyCeAMA%2B/fMFRX2SFORtf%2BCjuk%2BKfH0d/wCCbi0uPAWueDPhJrvhHVYtCknvLr/hMPEGraaVmR7uFY4xFZ2ZVgC8DSTOyXOFgruJOr%2BBv7FHiH4BR%2BBLvwj8XLK5v/A3wN0r4dW8uoeF3aG7%2BxyQMb5o0u1Zd6wsBCHOwuD5jbdrdZ%2B0b8AvHHxU8QeD/iZ8H/ifp3hHxn4Jvbx9K1TWvDT6vYz2t5atb3NtPapdWruD%2B5lVlmQrJbx53oXRvMPBv/BRo/Ez9orwf4I8IfB/xNZeAfEfgrxZr9p4s1TQlnbxDDpNxp0Mc%2Blx2VzNOY3%2B1St5U9uk8waBoUIJz6T%2B1J8aPiB8PdG8C%2BFvg4mkQ%2BKPiT43t/Duhah4n0ue4stNzZXmoT3M9rHNbyzbbWwuAsQliJkZAWUZoAp%2BHf2WNY8Bfsu2v7K3gzxT4X1DQ9M8D2GhWP8AwnfgltYjvJ49wu7nUIFvII7uO4TbmBBDscyNvdXVE87s/wDgmvF4b/Z5f4L%2BEb34SPeat4ym8SeI5/E3wPh1HRku3gS3iOmaSL%2BKPTjbwQ20UBeS42pB84lZ2c9DpX7XXxTf9gnxr%2B0e/wAO7LWPHHgX/hK9MvtE0eG4FnqGp6HqV9pss0MYMk628slkZxEDJKsb7Mu4yeT%2BCP7ZnxH%2BPXg/4maP4K/aa%2BEF1f8Aww1Cyu9Q%2BKWl%2BBr2%2B8M6jo8%2Bnm6Zo7ZNZVklhkSeN5FvZox5ByodmjiAGa1/wSzWy0e0%2BGPww%2BN8ek%2BA5/BPhLwt4h0jWvC39o6pJZ%2BH7mSe2ksb8XUK2M0plYyO8FwBJ%2B9jWNySdpP%2BCb8GteK7zQviD8WYtX%2BGUWteL9Z8PeCYPDpt72z1DxIt6uovPqH2l1uIlXVNUWCNbeIxreAM8nlJXG%2BM/wBp3/goFpn/AATy8EftU6f4h%2BFuleO/FGi6YIPBur/DLU549S1fWb2G30izXZrkb2X/AB92qXAY3JRhM4IVdtfZlutwtvGt3KjyhAJXjjKqzY5IUkkDPbJx6mgDw39kv9j7xP8As8%2BK9Q8b%2BOvinpPiTUZfA2geDtLTQPB39iW1vpGkNeNamaL7VcefdMb6XfKrRxBVRY4Yhu3ew%2BD/APkEzf8AYVvv/SuWtSsvwf8A8gmb/sK33/pXLQBqUUUUAFFFMubq2srd7u8uEhiiUtJLK4VUUdSSeAKBpNuyH0V4R8Yf%2BCm/7BvwNMlr43/aa8NTXyNs/srQLs6pdmToI/JsxIysTxhgOvOK88T/AIKI/tP/ABlO39kL/gnF471mxk4j8S/Ee/g8M2RXtLGk26S4T/d2n24rzaucZbSnyKopS/lheb%2B6Clb5tH2uB8OeNMdhlipYR0aL/wCXuIccNT%2BU8RKkpf8AbkZvy1V/rqivkgfD3/gsx8Wv3vij9oT4R/CW1k/1cPg7wrPrt5Evo5viIiw/2Tig/wDBLvx34%2B%2Bf9o3/AIKKfGzxajf8fGm6LrsWhafP6h7e2Rsj2DDFZ/2jjKn8HCzfnJxgvxcpfgdf%2Bp3DmC/5GWe4eL6xoQr4qX3wp0aX/lRr5an0f8Qvjd8GPhHB9q%2BK3xc8MeGYwu7f4g163sxj1zM614X4z/4LF/8ABOnwdff2Nb/tEW2v6gx2w2HhTSLzU3mPorW8TRn/AL6FXfh5/wAEjv8Agnb8OJ/t9j%2BzFomsXjNvnvPFks%2BrvM/dmF48iZPsoHtXuvgv4bfDr4b2P9mfDvwDoug22MfZ9F0qG1THptiVRRbPKvWnT/8AA5v/ANsQc3hXgNo43FvzeHwsH8ksTUt87%2BjPmP8A4eleK/G37r4A/wDBO/47eKt3%2Bov9U8Lpo1hL6bbi4kPH1UYpV%2BO3/BYDxx/pHhT9hb4deC4n/wBXH40%2BJQv5AOxb7Cgx9Oor61oo/s/HVP4uKn/27GEF%2BUn%2BIv8AW7hfCaYHIMP616uJxD%2B51KEP/JPQ%2BSj4V/4LZ%2BL/AJNZ%2BKv7Pfg%2BJuj%2BHtD1XUJkHuLohCf0oH7Fv/BRrxP%2B9%2BIH/BWLVolfraeFvhbplisY9Fl3Fj9SM19a0Uf2Ph5fxKlSXrUn/wC28iD/AIiPm1L/AHTB4Kh/gwWHb%2B%2Bqq8vxPkv/AIdbeLvEPPxJ/wCClH7RmqKfv2%2Bl%2BOI9Nhk9mSKE5Htmgf8ABFb9iHWCG%2BJlt478anOXPir4ialNvPv5UsdfWlFH9hZQ/ioqX%2BJyl/6VKX5B/wARU8Q4fwMxnS/69RpUfudGhSf/AJMfPHhf/gk5/wAE5PCAUaT%2ByL4Tm2dP7Ut5L78/tLyZ/GvRfC37JP7Kvgcq3gz9mf4f6SV%2B62m%2BDbGAj8UiBr0Kiuqll2X0P4dGC9IxX/tp4eO4y4wzO/1zMsRUv/NXrSX3Orb8CGw07T9LtlstMsYbaFPuRQRBFX6AcCpqKK7LJHzjbk7t3YUUUUCCvGf2X/8Akt/7R3/ZZrH/ANQrwvXs1eM/sv8A/Jb/ANo7/ss1j/6hXhegD2aiiigAooooAKKKKACiiigAooooAKKKKACiiigAooooAKKKKACiiigAormvjFJ8TYfhlrE/wc1rQdO8SxWu/TL3xNpU19YxFWBcywQT28ko8sPhVlj%2BYrlsZrxuP9sHx9D/AME0vB37Yc/hjSLjxf4t8AeGb620tBLFpw1nWVsoYVILvItst1epkb2cRqRuLc0AfRNfCf8AwUZ1P%2BxP%2BCs37EGp7sZufHFrn/rtFosWP/Hq%2Bkf2Wvi78UfHOsfET4VfGyfQLzxP8N/GEOkXeteF9KnsLHVYLjS7HUoLhLWe4uZLdgt6YWjM8uWgLhgHCr8Wf8FTfjf8Kdf/AOCp37HPhbwT8T/D2r654Y8f6nZeJtH0rWoLi70h7q/0CNEuoY3L25bD4Dhc7Tjoa83N5cmXzl2cf/S6Z9r4d0PrXGGHo/zxrr78Li/8j9LqKKK9I%2BKCiiigAooooAKKKKACiiigAooooAKyvD//ACFtc/7Cif8ApJb1q1n3vhjSL%2B7e/kFzFLIAJHtb%2BaDfgYBYRuoYgcZPOKANCisv/hD9J/5%2B9V/8Hl3/APHaP%2BEP0n/n71X/AMHl3/8AHaANSvKfir%2Bx58KvjB%2B0b8Pf2nPFF/rMWufDkXn9n6fY3caWGqGaMrEb6Jo2af7MzSSwbXTy5JGb5uMehf8ACH6T/wA/eq/%2BDy7/APjtH/CH6T/z96r/AODy7/8AjtAHzVqH/BJL4IaxpfiHwzrHxo%2BJNzoet/D3xn4M07Qn1LTVttB0vxPNFNqX2TZYiR5hJChjmuXuGXkOZBgDtfFX7BPgHWfH2q/Fnwl8WPG/hLxZqnjO58RHxF4du7Az2zXOk2GlXNlGl1ZzRG1lg020dleN5FljDpIhChfYP%2BEP0n/n71X/AMHl3/8AHaP%2BEP0n/n71X/weXf8A8doA5P8AZy/Z48P/ALMXwr8LfBXwH418QX3hvwh4TstB0ix1ua2mby7YMq3MkqQJJJO6lVclvLIjUqisWZuX0D9h74deHfjmvxqs/HviuS3tPEmo%2BJNE8FTXVodG0jXb%2B1ktbzVLdRbC58%2BWK4uwUkneFWvLhliVpCa9U/4Q/Sf%2BfvVf/B5d/wDx2j/hD9J/5%2B9V/wDB5d//AB2gDyH4kfsH%2BBPir40s/Gvi34s%2BNWebStE0/wAb6fbT6fFa%2BNY9Ju3u7I6ki2eVKzyzM/2M2qyrK0UgaILGveeHfgR4W8M/Fjxv8arHWtVk1/x1YabYX1zPNEw0%2BzsIpltre1AjGyNZLm6nw5kJlupTnaVRei/4Q/Sf%2BfvVf/B5d/8Ax2j/AIQ/Sf8An71X/wAHl3/8doA8x8K/si3fhSx8VaxF%2B018RL3xx4uttOtL74m30ehtq9rZWMskttaQQrpi6ekKtcXZINoxY3czMSxVlLb9iX4Wp8K9E%2BE2p%2BJvEeoWemfEG28a6zf315A114k1iHUP7SWa/ZYQjobxYpvLhSJF%2BzwxoEiQR16d/wAIfpP/AD96r/4PLv8A%2BO0f8IfpP/P3qv8A4PLv/wCO0AeW%2BMP2OV8V/tWWP7Wlr%2B0d8QNK1XTtGh0m08OWcOiT6VDZLOJriGJbvTJri3%2B1MqC4khnjkkWKIB1EUe3Ll/4J4fBTUvGl3rXibxL4l1fwzPqXiDU7L4c39xaDRNP1DXIrqPVbuIR2yXTPcLf6huWW4kjU305REJXb7N/wh%2Bk/8/eq/wDg8u//AI7R/wAIfpP/AD96r/4PLv8A%2BO0AeQ/Dz9iGP4YeHtfi8MftQfE1vFOv6fpGmH4hX8mi3Or2Wl6Y0ps9PiEmmm0aFPtN2S01vJM7XcrtIzlWXL1f/gnH8N5ND0Sz8EfGj4heE9Y0zS9e0/U/FWhahp76jr0OtXcd7qn2w3dlPCXnu4ln8yGKF4mysLRIdle5f8IfpP8Az96r/wCDy7/%2BO0f8IfpP/P3qv/g8u/8A47QBxnhH9lr4XeBviP4V%2BI3htL%2BFvA/w7fwX4S0drhXs9M015bWSUxgr5hlkFjZozs5Gy2QAAli02g/s76D4V1b4l%2BKvDHjbxBY6/wDE/UUvNS8QJJayXOlPFp0FhbpZCSBokjhS3EqJKkq%2BbLM7hxIVrrf%2BEP0n/n71X/weXf8A8do/4Q/Sf%2BfvVf8AweXf/wAdoA8Suf8Agnp4P1KG58R638ffiJfePJvFtj4it/idNPpKavZ3dpZzWNukUMenrp4hW1uruExNaMrC6lZtzkOKmrf8E0vhVd%2BB7Dwj4f8Ai/4/0K9TTfEOn%2BIvE2k32n/2j4ktddvjqGrR3jTWUka%2Bfdlpg9tHA8BZlgaFGK17x/wh%2Bk/8/eq/%2BDy7/wDjtH/CH6T/AM/eq/8Ag8u//jtAHmWpfscaBrfj7w74g1v4x%2BNLrwt4R1Sy1Hwx8NGfTY9E0%2B6tLcQ20ivHZLfSiM/vVjlu3j8zDFSFVVh%2BB37EHw5%2BA/xDs/H2geO/FOqw6DoWo6J4H8PazcWZsPCmmX11b3VzaWSwW0Uro0lnaANcyTuiW6IjKpYN6n/wh%2Bk/8/eq/wDg8u//AI7R/wAIfpP/AD96r/4PLv8A%2BO0AJ45/5EnWP%2BwXcf8Aotq8u8cf8pC/hf8A9kZ8ef8Ap28IV6ifBmhvhZ2vpkyCYrjVrmRG9mVpCrD2IIry7xx/ykL%2BF/8A2Rnx5/6dvCFAHs1FFFABXHfHj42eGv2fvh1L8RPE2kanqm7UrHTNM0XRIY5L3VNQvbqK0tLSBZZI4/MknmjXdI6RoCXd0RWYdjXl/wC1v8G/Gfxn%2BGFhY/DW80yLxN4a8YaL4l0CPW55IrK6uNPv4bk2s8kUcjxJNGkkPmrHIYjIJAkmzYwBmw/tsfDJf2d9V/aF1bwn4l09dE19vD%2Bq%2BD7qzt21iDW/7QTTo9M2RTvA00t1LDHG6zGBxPHIJfLbfWHe/wDBQXwZbaXZabb/AAO8eXPje78cz%2BEpPhlF/Y66xa6pDpf9rvHLNJqK6eF/s5oroOLshkmjC5clBl%2BDv2YPiuvwJ%2BIvgf4ufDPwF4n1P4ja5qHibVdFHjO/t9PTUZ7hPIsUuk0/z4o4Le3tCuoJGJvtCNItvFhceRn/AIJdfEC28Ci41r4b/DbxzJr3xbu/Gnjb4TfELxfqeqaBfl9Ch0e1WTVr6xu7q%2Bnt1tYbnzbm1YSSyy4WLZCyAH2L8EPjB4P/AGgfg94Y%2BOHw/a6OieLNDttV0v7db%2BVMIJ4xIodMnawBwcEjI4JGCfLf2P8A/k3rV/8AsvXjn/1YGq10/wAA/wBnjV/Af7Ivhf8AZs%2BKvjfUdUu9L8L2%2Bmarq%2Bg67fWE2UUfJb3cMqXUaxgCNJPMWUogLHJNcz/wT38H6Jov7Meo%2BCITe3NhZfFr4hWsLapqlxe3LpH401oK0lzcO800nAJlkdpGb5ixPNAHvVFZX/CH6T/z96p/4PLv/wCO0v8Awh%2Bk/wDP3qv/AIPLv/47QBqVU17QtH8UaHe%2BGfEWmxXmn6jaSWt9Z3Cbo54ZFKPGw7qykgj0NVv%2BEP0n/n71X/weXf8A8do/4Q/Sf%2BfvVf8AweXf/wAdoA%2BfvBP/AATB%2BFHw0%2BEfgP4YfDz41fEfStQ%2BH2t6nqml%2BOV1PT7nW7yW/SaK6F1Jc2UkEm6KbyldYUljSGIRum0k2PA3/BMT4B/D/wANeHvCuieLfGElt4a8NfDzQ7BrvUrZ5HtvBuq3eqaW0jfZxuklnvJVuG4DoqCMQsC7e8/8IfpP/P3qv/g8u/8A47R/wh%2Bk/wDP3qv/AIPLv/47QB4h8Nv%2BCd3gX4U/ETS/iB4S%2BOvxEVfC/hvXdC8B6FcXmmyWHhaz1Wa2mmS0Q2O%2BUxPaQeSbp7jYqbDuT5a9I%2BOfwD0T47%2BDdL8Oav4013RNU0DWrXWPD3izQHtV1HTNQgDKtzEJ4Jbdi0ck0TpJC8bxzSKUweOn/wCEP0n/AJ%2B9V/8AB5d//HaP%2BEP0n/n71X/weXf/AMdoA4v4bfs22Hwi%2BGEPwr%2BHvxV8VWFqmnautxqJNhNeXWqaldNeXGtSPLaMpvftMtxMAFFsXuZN0DgRhOZuf2FfAGu/BX4g/B3x38T/ABl4jm%2BKrbfH/i7VLmxj1TVrfyIrY2h%2BzWkVtBbm1i%2Bz%2BXDBGNksrDEsjyn1r/hD9J/5%2B9V/8Hl3/wDHaP8AhD9J/wCfvVf/AAeXf/x2gDA%2BJvwL8H/FfxF4F17xPeX6ReAPFH9v6TpdpJGlrdXi2VzaRfaFKEukQunlRVZMSxxOc7AK7Osv/hD9J/5%2B9V/8Hl3/APHaP%2BEP0n/n71X/AMHl3/8AHaANSsrwf/yCZv8AsKX3/pXLXhP7SH7df7JH7NWvJ8Pta8Z%2BIfFPja4fy7LwB4GvrzVNYnkxkIYYpcRHHOJWTI6Zrg7DXv8Agqv%2B0/aJp/w78C%2BG/wBm/wAGyDEep%2BJQuueJZYyfvpajEEDHJLLNhwedx615lbNsLCo6VK9Sa3jBc1vV6Rj/ANvST8j7fLvD/PcVgoY/HOGCws1eNXEz9kpLvThaVat5eyoyT/nPqzx78Sfh38KvD8niv4n%2BPdG8OaXEcSajrupxWkCnGcF5WVc%2B2a%2Bb/FX/AAWE/ZTm1ibwd%2Bz3pnjH4xeIozsGkfDTwtcXqqx4Be4dUiCdy6swABNT/D//AIJI/szWfiKP4iftGal4j%2BNXi0D5tb%2BKGrPfwx55KRWnECR9MIyvtAwDX0p4X8JeFfBGjReHPBfhnT9I06AYgsNLso7eGMf7KRgKPwFZ/wDC1if5KK/8GS/9tgn/AOBHY34ZZLpbEZjUXW6wlC/krVsTJeb9k2uiPlJdc/4K/ftLHfoPhrwL%2Bzx4fm%2B5c6w6%2BJPEAU9HES4tV45KPhlOB61Naf8ABIb4V/EG5j1n9sb49fEn4z3oYO1p4n8TzWmlxuOcw2doyCIZ5272FfW9FNZNhamuJcqr/vttf%2BALlh/5KxPxLz/BrkySnSy%2BHT6tTjCpbzxE/a4hvu/aw9Fsee/CD9kz9mP4BLGfgx8A/CfhuaNcC90vQ4Y7lu3zT7fMc%2B7Ma9Coor0qVGlQhyU4qK7JJL7kkfE47MMwzTEPEY2tOrUe8pylOT/7enKT/H5BRRRWhxhRRRQAUUjMqqWYgADJJ7VxfiX9pL9nbwZdNY%2BMPj54K0mdPvw6l4ptIHX6h5ARUTqU6SvOSXq0vzaM6lajRV6klFebS/No7WivJ7z9vT9hvT2KXv7ZfwqjYdUb4habu/Lzs1Rf/gov%2BwPG21v2zfhjn/Z8bWR/lJXO8wwC3rQ/8Dj/APJHK80yuO%2BIp/8AgcP/AJM9morxK7/4KTf8E/7KPzZv2yfhww9IfFtrIfyVyawdW/4K2f8ABN/RVLXn7XPhZ8dfsjzXH/oqNqiWaZZD4q8F/wBvx/8AkjOedZND4sTTX/cSH/yR9F0V8sR/8Fr/APgmBLcm1X9qmyDKcEt4b1VV/wC%2Bja4P50muf8Fpf%2BCc%2BniK28O/HK48S39wM22k%2BGfC%2Bo3dxL7ACAKD7MwrH%2B28mtf6zT/8Dj/mYf6x8P2v9bp/%2BBxf5Nv8GfVFFfJKf8FZIb4favD3/BOn9qLUrN%2BYL%2B1%2BFH7uZf7y7rgHH1Apf%2BHscNtzrH/BOT9qizT/AJ6yfCPcg%2BpFzS/tzKv%2Bfn/ks/8A5WT/AKx5L/z%2B/wDJan/yo%2BtaK%2BSv%2BHunguf5NK/Yb/aYvpB96G0%2BEchZT6HM45o/4ewvH89z/wAE1v2r40PR/wDhUGePf/SeKP7cyr/n7/5LP/5WH%2BseSf8AP7/yWo/ypH1rXjP7L/8AyW/9o7/ss1j/AOoV4XrzD/h7l4Qi/wCP/wDYU/abtPX7R8IpBj8pzXRf8E6/i/pfx61v48/FjRfCHiLQbbVfjNB5ek%2BLNJax1CDyvCPhuE%2BbAxJTJjLLzyjK3eujDZjgcZPkozu7XtaS0%2BcYnVhM2y7H1HTw9RSkle1pLT/t6ET6TooortPRCiiigAooooAKKKKACiiigAooooAKKKKACiiigAooooAKKKKAML4meDtU%2BIPgPU/BejfEHWfCtxqNv5KeIPD8NnJeWYJBZolvbe4tySAVPmQuMMcAHBHlHgn9g/wp4Y/ZWtf2O/E3xw8eeKvCGn%2BEIPD2ltrjaVDe2UFt5Ys7iOaxsLci4thDF5chB5jVnDvlj7pRQBwPwC/Z/wBH%2BAmm68Y/HOv%2BK9c8V6%2BdZ8U%2BKvFDWn27VLv7Nb2iM62dvb28ax21rbQqkUMahYQSCzMzfEf/AAW5/wBB/ap/Zd8WdP7B1nUdQ3f3duveFEz/AORK/Rqvzl/4L1/6DqHgjxZ0/sHwJrmobv7u3xX4HTP/AJEryc90yau%2B0W/ucX%2Bh%2BgeFOviTlUP560Yf%2BDI1af8A7kP0aooor1j8/CiiigAooooAKKKKACiiigAooooAKKKKACiiigAooooAKKKKACiiigAooooAKKKKACiiigAooooAKKKKACiiigAooooAK8Z8cf8AKQv4X/8AZGfHn/p28IV7NXjPjj/lIX8L/wDsjPjz/wBO3hCgD2aiiigAooooAKKKKACvGf2D/wDkiGuf9lm%2BI/8A6mut17NXjP7B/wDyRDXP%2ByzfEf8A9TXW6APZqKKKACiiigAooooAKKKKACisT4jfErwB8IfBl/8AET4oeMNP0HQ9Mh82%2B1TVLlYoYl6DLN1JOAFGSxIABJAr5Hn/AGjv2vf%2BCi1y/h79ibT7v4YfCqRzHffGjxLppXUNXizhho9m%2BCFPOLiTHU4MbrtPDi8woYSSp2cqj2hHWT8%2ByXeUmoru3ofVcPcIZnxBRni%2BaNDCU3apiKrcaUHvy3s5VKjXw0qUalSX8sY%2B%2BvZf2pv2/vgF%2ByrfWvgrX72/8TeOdVIXQvh34PtDf6zfuwyuIEP7pT13yFQQDt3EYryMfCT/AIKN/tzn7X8ffHr/AAA%2BHdzyPA/gW/WfxJfwn%2BG71HGy2yD92IcglXQEZr0/4I/ss/sff8E8/CGoePZdVsbDULpWk8T/ABK8e6zG%2Bpak5%2BZ2nvJyMBiMlE2qSM7Sck%2Be6l/wU58YfHnWpvB3/BOP9mzWPik0E5ivPHess2keGbRgcNi5mUPcsCDlECkjBUsK8jEzcmlmNXlvtRpttv8AxOPvz87ckPNo78dx3wdwPJUOH6Sq4npia9NVKzffD4X95TortOpGtVWjcqb0Xt37Nv7Gv7NX7JOhto3wH%2BFWnaNLOmL/AFdlM%2BoXxzkma6kLSyZPO0ttBJwBXp9fI6/CX/gsj8VyJPG/7WPws%2BFcEnP2f4f%2BCJNZmVf7rNqTBd3YleM8inf8O0/jp4r%2Bb4tf8FS/jpfFv9YPCOp22gqfoIY3wPauujiqtKmqeFwclFbJ8lNfc23%2BB%2Bc5lxRxBnuNnjMTQr1qs3dzrTipS9XOc5eiskloklofWxIAyTXkHxj/AG/v2LPgCZYfix%2B0z4R0y6hz5umx6sl1eLj1trffL/45Xk7/APBGj9mnXF8j4n/F74yeNoH4uLbxV8TruaO4XuriLy8g98EV658G/wBgz9jP4ACKT4Sfs1eEdJuYceVqR0hLi8GP%2BnmffMf%2B%2B609pnVXSNOFPzlJz/CKivvkcPtuIq2kaNOl5ynKb/8AAYRivvkeRL/wV08DePm2fsw/sn/Gf4oQtzFrGheCJLXTWHYm4uihXPbKU7/hrr/gp74z%2BX4ff8EtY9Igf/V6h4y%2BK9hFj/et4k8wfnX1t06UU/qOYVP4mKkv8EIRX4qb/EP7OzWrrVxsl5QhTivxVSX43Pkj/jdz426n9nfwRav/ANhbUryP%2BUJpf%2BGRv%2BCn/jD9549/4KmRaPE339P8H/CbT4wP924lfzP0r62oo/silL%2BJVqS9akl%2BEeQP7CoT/i1q0/WrJfhDkPkr/h178Q/EH7z4h/8ABTv9oy8c/fXQPGcWlRt7bI4W49qP%2BHPHwSu/m8SftLfHrWZO8up/FW5Zj/3yi19a0Uf2HlT%2BKlf1lN/nNh/q5kj%2BKjzf4pTl%2BdR/kfJX/DmT9lM/M/j74rtJ2lb4mX27/wBCo/4c2/s2j5F%2BMXxlEfeIfFC82mvrWij%2Bw8n/AOfEfx/%2BSD/VvIf%2BgaP4/wDyR8lf8OVP2IdSYReOYPHnii1zlrHX/iJqUkLn3EcqH9a7Twz/AMEqv%2BCdXhK1Wz0r9kHwZKi9DqenG9f8WuGdj%2BJr6Boq4ZNlNN3jh4X/AMKf53NKfD%2BRUneOFp37uCb%2B%2BSkzyOz/AGAf2FLBQtt%2Bxj8KhjozfD7TmP5mEmryfsTfsZRLsj/ZH%2BGKgdAvgHTgP/RNenUV0LA4FbUof%2BAx/wDkTqWW5bHahD/wCH/yB5vafsb/ALIdhJ51j%2Byt8N4X/vReBtPU/mIa3tI%2BBPwQ0Bg%2BhfBvwrZEdDaeHraMj/vlBXVUVccNhofDTivSMf8AI0hg8HT%2BGlFekYr8oooyeGfDctsLOXw9YtCowsTWiFR%2BGMUmjeF/DPh1pX8P%2BHbCwMxzMbO0SIyH/a2gZ/Gr9Fa8sb3sb8kL3svuCiiiqKCiiigArxn9l/8A5Lf%2B0d/2Wax/9QrwvXs1eM/sv/8AJb/2jv8Ass1j/wCoV4XoA9mooooAKKKKACiiigAooooAKKKKACiiigAooooAKKKKACiiigAooooAKK479oP4zaF%2Bzv8AA7xZ8c/EmmXV9Z%2BFNAudSk0%2Bx2%2BfeNFGWS3i3EL5kjBY13EDc4yQMmuG%2BGP7VHjjWND%2BJWmfF74JDR/GnwwtY7zVfC3hDXn1xNTtprH7ZbPZTvbWryvJtmg8toUImgcAshR2APaq/Pn/AILraP8A254Umstm7Z8BvF1xj/rj4n8DS5/8cr3/APYK/bxt/wBtuLxI9l4a8KpD4fs9Kuf7Z8CePB4j0qR76KaQ2D3X2S28rULYRKbi12N5S3Nud7eYQvlX/BXTR/7cbUbLZu2fsufEu4x/1y1LwjLn/wAcrzs3h7TKcRHvCf8A6TI%2Bx8OsT9T8Qcnr/wAuKw7/APK9L/M%2ByPA%2Bsf8ACQ%2BC9H1/fu%2B3aXb3G713xq2f1rUrgf2VNY/4SH9l74b6/v3fbvAOj3G7132ULZ/Wu%2BrsoT9pQhPuk/vSf6nzuaYb6nmmIw/8lSpH/wABnOP/ALaFFFFanAFFFFABRRRQAUUUUAFFFFABRRRQAUUUUAFFFFABRRRQAUUUUAFFFFABRRRQAUUUUAFFFFABRRRQAUUUUAFFFFABXjPjj/lIX8L/APsjPjz/ANO3hCvZq8Z8cf8AKQv4X/8AZGfHn/p28IUAezUUUUAFcd8ePjZ4a/Z%2B%2BHUvxE8TaRqeqbtSsdM0zRdEhjkvdU1C9uorS0tIFlkjj8ySeaNd0jpGgJd3RFZh2NeX/tb/AAb8Z/Gf4YWFj8NbzTIvE3hrxhoviXQI9bnkisrq40%2B/huTazyRRyPEk0aSQ%2BaschiMgkCSbNjAGbD%2B2x8Ml/Z31X9oXVvCfiXT10TX28P6r4PurO3bWINb/ALQTTo9M2RTvA00t1LDHG6zGBxPHIJfLbfWf/wAN4eCT4X8xPg/42fxp/wAJw3hA/CxI9MbXF1gaeNUNuXF99gVf7OZL3zjdiLyXX597CM8/4O/Zg%2BK6/An4i%2BB/i58M/AXifU/iNrmoeJtV0UeM7%2B309NRnuE8ixS6TT/Pijgt7e0K6gkYm%2B0I0i28WFx5Gn/BKLXY/Cdn4z1z4e%2BBvFfiWT4yXfjnXPh14y8a6pqeg38M/h5NBFlPqt7aXF3eukdva3huLm1ffPG6%2BXGpjeMA%2B3fCWt3/iXwvp/iDVfCmo6Dc3tnHNcaLq7QNdWLsoJhlNvLLCXU/KTHI6Ej5WYYJ8q/YP/wCSIa5/2Wb4j/8Aqa63V/8AZ%2B/Z21nwF%2ByR4d/Zx%2BK3jO/1G7sdCFlqWo%2BH/EF/YyRDeXWC1vIpY7tI4VKwxyB1kMcSk4JIrC/4J0%2BHrDwl%2BzdfeFtKuL6W2074t/EO2t5dT1Se9uXRPGetKDLcXDvNO5A5kkdnY5LMSSaAPdKKKKACiiigAooooAK%2BfP24/wDgpF8Af2HNDFn4u1Ea34wvbcyaN4K0y5RbmYc4mndvltLcYJaaTjCsVD7SK8S/b%2B/4Kk%2BOLTx3N%2BxX/wAE5/DU3jn4t3jPb6pqek263Nt4cwdr8n9206E/MzkRQn/WEsCg539jD/ghlo%2Bl%2BIW%2BPn/BQTxa3xE8Z6ldC%2BuvD8949xYJOcHdeSv89/IMD5WxCPmG1wQa%2BZxmb43F15YTKoqUlpKo/gh5X%2B1JdldLr2PawVfh/LF7bGxeKrr4cNCThFdniq6T9lDr7Gkp4qoumHi%2Bd%2BPeFv2ibL9sn4mW/wAVPjz4A8X/ALRPiTTLrzPDHwb%2BGeiSjwX4Wl/hN/ezhYrufBAaXEsWSRmRSoX6xtvAn/BW79pGCO38VePvBP7OvhdkCpo3hK1XXtdWID/VPcPi2i4wA8OCvpX1voPh/QfC2kQaB4Y0S006wtU2W1lYWywwwr/dVEAVR7AVbrTCZDOlF%2B3ryk5ay5fd5n/elrOXkuaKS0UUjy%2BIs14j4wrQebYq1GmuWnh8PH2GHpRf2acIuU9ftSlP2lR%2B9UnOT0%2BWfBH/AASB/ZJsPEEXjr45f8JT8YfEsZz/AG38VPEc2p4JOSBBlYNmeisjYAAzX07o%2BjaR4e0u30PQNKtrGytIlitbOzgWKKFAMBURQAoA6ADFWaK9jDYHB4JP2FNRvvZav1erfzbPMweW4DL01hqUYX3aWr9W7yfzkwooorqO0KKKKACiiigAooooAKKKKACiiigAooooAKKKKACiiigAooooAKKKKACiiigArxn9l/8A5Lf%2B0d/2Wax/9QrwvXs1eM/sv/8AJb/2jv8Ass1j/wCoV4XoA9mooooAKKKKACiiigAooooAKKKKACiiigAooooAKKKKACiiigAooooA479oT4M6H%2B0T8DfFnwM8SapdWFn4r0C502TULHb59m0sZVLiPcCvmRsVkXcCNyDIIyK8t8PfsafEzUfD/wATLb4x/H2w1fWfi5o0%2BleL9b8LeEZtHe1tBposbNNOVr%2B4Nq0W%2B5nZ5GnMktwSvlKioPoOigDxT9l79ljxv8FfHniH4p/FH4p6J4l17XPCmg%2BGol8L%2BCzoNhbadpJvmtybc3d0XuGbUJ98nmKmxIUSKMId3i37cnwL%2BFGjfG/xNr/gj4XeHtI13xp%2Byn8VV8SazpWiQW93q8gm8MrG9zNGgedl3ttLliNxx1NfalfO37TWj/8ACQ/tX%2BGNA2bvt37O3xKt9vrvvvCa4/WsMVD2mGqQ7xkvvi1%2Bp6mR4n6nnmExH8lWlL/wGrTl/wC2nRf8E59Y/tz9gf4NX2/cV%2BGmjQE%2B8VnHEf8A0CvZ6%2Bbv%2BCQusf25/wAE2fhLe787PDr2%2Bf8ArlczRY/8cr6RrnyqftMroS7wh/6TE9jj3D/VOOs2ofy4rEL/AMr1f8wooorvPkwooooAKKKKACiiigAooooAKKKKACiiigAooooAKKKKACiiigAooooAKKKKACiiigAooooAKKKKACiiigAooooAK8Z8cf8AKQv4X/8AZGfHn/p28IV7NXjPjj/lIX8L/wDsjPjz/wBO3hCgD2aiiigAooooAKKKKACvGf2D/wDkiGuf9lm%2BI/8A6mut17NXjP7B/wDyRDXP%2ByzfEf8A9TXW6APZqKKKACiivLf2vP2s/hx%2Bx18I5vib48Se%2BvLi4Wx8NeG9PG6913UZOIbS3QAlmY9SAdq5ODwDlWrUsNRlVqu0Yq7b/r%2BtlqY4jEUMJQlWrSUYxV230X9fNuySbaR3vjjx14M%2BGfhO/wDHnxC8U2GiaLpkBm1DVNTulhgt4x/EzsQB2HuSAOTX58%2BKv2zf2i/%2BCsvxK1D9mv8A4J/3uoeCvhZp8vk%2BPPjJc2zx3U8J6wWS/K0RcZKrkSsCCxhQMG8R1b4b/tk/8Fl/2iG8BfE7x/Hp/hHwzeq/iu18NyF9C8Jnr9ghfO3U9WKkq8pLRwZfBIICfqx8BfgJ8Kv2Z/hZpfwb%2BDPhSDR9C0mHbBbxDLyufvzSueZJXPLOeSfbAr5ilicdxHVcaadLCp2b2nU7pW%2BGPSTT5n8N0729rHcNYvAYCnWzm9GpVipQw13GsoSScamKad6CmmpU8Mmq84tTrSoU3GnU5/8AZS/Y3/Z9/Yv%2BHkfw6%2BA3geHTomRP7T1afEt/qkqj/W3M%2BAZGySQowibiEVF4r1Giivp6NGjhqSpUoqMVoklZI8elRpYemqdKKjFbJJJL5IKKKK1NAooooAKKKKACiiigAooooAKKKKACiiigAooooAKKKKACiiigAooooAKKKKACiiigAooooAK8Z/Zf/wCS3/tHf9lmsf8A1CvC9ezV4z%2By/wD8lv8A2jv%2ByzWP/qFeF6APZqKKKACiiigAooooAKKKKACiiigAooooAKKKKACiiigAooooAKKKKACiud%2BLnxS8G/A/4W%2BIvjH8Q797XQvC2i3OqatPFC0si28ETSPsRctI5CkKigszEAAkiuS%2BD/7VPhD4oaH4tv8AxV4L8QfD/UfAcqjxfoHjj7FHdaZC9ol5Hcu9nc3Fu8LwPuDpMwBSRG2vG6qAen14t4/giuf%2BCgnwyt5l3JJ8FvHqup7g6t4QBrqf2ffjxe/tAeHH8Yx/A/xp4R0i4tre60G%2B8XxafEdZtJ1Z47iGG2u55oBtCsY7qOCZfMUGMHcF5nxx/wApC/hf/wBkZ8ef%2BnbwhQCbTujzT/giHNLH/wAE2PAuhXDlpdI1DXLGUnrlNXvCB%2BTCvrGvkv8A4I2/6D%2BzN4r8J9P7B%2BMPifT9v93beF8f%2BRK%2BtK8rIv8AkTYddoJfddfoff8Aisl/xEvOJr7eIqT/APBjjU/9yBRRRXqnwAUUUUAFFFFABRRRQAUUUUAFFFFABRRRQAUUUUAFFFFABRRRQAUUUUAFFFFABRRRQAUUUUAFFFFABRRRQAUUUUAFeM%2BOP%2BUhfwv/AOyM%2BPP/AE7eEK9mrxnxx/ykL%2BF//ZGfHn/p28IUAezUUUUAFcd8ePjZ4a/Z%2B%2BHUvxE8TaRqeqbtSsdM0zRdEhjkvdU1C9uorS0tIFlkjj8ySeaNd0jpGgJd3RFZh2NeX/tb/Bvxn8Z/hhYWPw1vNMi8TeGvGGi%2BJdAj1ueSKyurjT7%2BG5NrPJFHI8STRpJD5qxyGIyCQJJs2MAZsP7bHwyX9nfVf2hdW8J%2BJdPXRNfbw/qvg%2B6s7dtYg1v%2B0E06PTNkU7wNNLdSwxxusxgcTxyCXy231S1X9vL4W%2BF/gN41%2BOHjnwV4p0O6%2BH%2BrnRvEvgW8t7ObW4tWaG2nttPjW2uZbaWa4ivbKSIpcGMrdRs7oA5TnPB37MHxXX4E/EXwP8XPhn4C8T6n8Rtc1DxNquijxnf2%2BnpqM9wnkWKXSaf58UcFvb2hXUEjE32hGkW3iwuPNdC/4JOeJr/4YeIru%2B%2BN2v8Agbxpr/jPV/FUdn4T8SJr9jb311oNtocUdxfeIdPurm/ZbS1Ja7aOKfde3ITapRQAfYHwy8faP8Vvht4e%2BKPh22uYdP8AEmh2mq2MN6irNHDcQpMiyBWZQ4VwCAxGc4J615r%2Bwf8A8kQ1z/ss3xH/APU11utb4G/s%2B6n4I/ZF8I/s1/FDx3rGsXmj%2BDbHR9Y1zS9ak026lkhhRGMFzpy2kkSqV2o8Yicoq7ssWJ5v/gnT4esPCX7N194W0q4vpbbTvi38Q7a3l1PVJ725dE8Z60oMtxcO807kDmSR2djksxJJoA90ooooA5b43fGXwD%2Bz18Jtf%2BNXxQ1gWOheHNOe8v5%2BCzAcLGgJG6R2Koi/xM6jvX5Y%2BJ7P9o//AIKB/tPaPDrUkmlfEHxfpH2rR9KjYywfCHwVMF3XknQHWL2NlC5w6LIp/dl4vI7f/gp9%2B1pD8dfjhH8HvCGjHxL4O%2BGniO3s18OQAuvjrx3LkWWkbQf3ttaE%2BbcDOCQ0bYZ4WP2Z%2BwX%2ByJL%2Byz8MrzU/H%2Bt/2/8AErxref2x8SfFUpDPfag%2BT5KNgYgh3FI1AA%2B8wVd5A%2BMxUp8RZm8LTf7im/ea6v8AzunGPa0578lvpuEsJhMHQ/1wzKCnSozlDA0ZJONfFU/jxNSL0nh8HJpQTTjVxXLH3o0pnonwF%2BBHwv8A2afhTpHwY%2BD/AIZh0rQtGthFbwxgb5X/AI5pWxmSV2yzOeSTXYUUV9hTp06VNQgrRSsktkkeFjMZi8wxdTFYqo6lSpJylKTblKUm2227tttttv8A4YoooqzmCiiigAooooAKKKKACiiigAooooAKKKKACiiigAooooAKKKKACiiigAooooAKKKKACiiigAooooAK8Z/Zf/5Lf%2B0d/wBlmsf/AFCvC9ezV4z%2By/8A8lv/AGjv%2ByzWP/qFeF6APZqKKKACiiigAooooAKKKKACiiigAooooAKKKKACiiigAooooAKKKKAPP/2q/grdftGfs3eNvgdp2vR6VeeJ/Dl1Y6dqc0JljtLpkJgmdAQXRZQjMgILKCMjOa8r8KfswfHP4hQ/F28/aK0zwjpVz8adBOg61beDvE93fR6Hp0OmGzg8mS4sLc3ksktzeyuWWARK0KATFWc/SlFAHzJ%2BwB%2Bxz8Rv2YfEGva14s8NeB/C9jf%2BEtB0VfDvw/1W6u7XVL%2BwN59p1%2B6NxbW5S9u1uYUddsr7bVPMuZzt8vUv/hj4b8Hf8FNvBfjPSdS8QzXniH4PeOJL%2BHVfF2o31pEU1bwlgW1rczyQWQO45W3SMNgbgdq4%2Bh68Z8cf8pC/hf8A9kZ8ef8Ap28IUAeY/wDBKLOmn9ovwm3H9m/tPeKvJX0hk%2BzOn9a%2BtK%2BS/wDgnV/xKv2m/wBqvwn08n4vx6ht/wCvqyR8/jtr60ryck0yyEezmvuqVD9A8Ufe44xFX/n5DDz/APA8JhH%2BjCiiivWPz8KKKKACiiigAooooAKKKKACiiigAooooAKKKKACiiigAooooAKKKKACiiigAooooAKKKKACiiigAooooAKKKKACvGfHH/KQv4X/APZGfHn/AKdvCFezV4z44/5SF/C//sjPjz/07eEKAPZqKKKACiiigAooooAK8Z/YP/5Ihrn/AGWb4j/%2BprrdezV4z%2Bwf/wAkQ1z/ALLN8R//AFNdboA9mr5k/wCCmX7Ymt/s7/Dey%2BFHwc1C2HxO8frPa%2BGWnkAj0W0jjL3ms3BwfLgtoQ8m4gjcucMqOB9BfEbx94a%2BFfw/1z4m%2BM74W2keHtJuNS1O4P8AyzghjaRz7nap471%2BUEXhP4m/tyfFjQYvGdzJB49/aQtU1TW47aQt/wAIH8LbaYPFaxtj5Jb51XLgYfIDAec%2BfnuIMwq4agsPh/4lTRW3Sb5dPOTfLHt70toHVlGTV%2BKuIKGR0avsozUqlet/0D4WkuavW/xKF4Ul9qrOCR7D/wAEcP2OdL1%2Baw/a%2B8T6bdN4c0SC50/4O2erRFbi5WViL/xHcKckXN5IGC5JKQhUy6pE1fovVHwx4a0DwX4b0/wf4V0qGw0vSrGKz06xt12x28ESBI41HZVVQB7Cr1d%2BVZdSyvBRoQ33b7vq/Tol0SS739fiXOqOdY%2BP1Wl7HC0IRo4eitqVCndU4ecnrOpPepVqVJttyViiiivSPngooooAKKKKACiiigAooooAKKKKACiiigAooooAKKKKACiiigAooooAKKKKACiiigAooooAKKKKACiiigArxn9l/wD5Lf8AtHf9lmsf/UK8L17NXjP7L/8AyW/9o7/ss1j/AOoV4XoA9mooooAKKKKACiiigAooooAKKKKACiiigAooooAKKKKACiiigAooooAKKzfGfjHwr8O/B%2BrfEDxzr9rpWiaFps%2Boaxql7KEhs7WGNpJZpGPCoiKzE9gDXOfBD9oT4VftEaJqGu/C3WNRmXSNQFjq1hrfh2%2B0i%2BsbgwxTqk9nfww3EW6GaGVC8YDpKjqSrA0AdrXh3xD1vTbH/gpB8I9Gu7lY7i/%2BDHxA%2ByIxx5hTVfB7Mo9TtJOPRSe1d58JP2ifg18dtb8YeHvhN42j1m68A%2BJpPD3isQWk6JZalHFHJJbiSRFSYqsihmiLqrhkLB0dV%2BPP%2BCpXxO1L4Gf8FIP2PvjPE7rpmlyeLdP8RSg/JDYahceHrGSWT/ZRp42/3gtc2MxMcJh3WlsrX9G4pv5Xv8jjx%2BLjgcJKvLaNr%2BjlFN/JSv8AI9E/Y1/4lH/BS/8Aa58NHhXvPBeoQj%2B952kSbz/30AK%2BtK%2BS/gX/AMSb/gsF8dtN6f218OPDGoY/veSJIM/rivrSuLJtMLOPapVX/lRv9T9M8SffzzC1v58HgZf%2BWlOD/Gmwooor1j8/CiiigAooooAKKKKACiiigAooooAKKKKACiiigAooooAKKKKACiiigAooooAKKKKACiiigAooooAKKKKACiiigArxnxx/ykL%2BF/8A2Rnx5/6dvCFezV4z44/5SF/C/wD7Iz48/wDTt4QoA9mooooAK4748fGzw1%2Bz98OpfiJ4m0jU9U3alY6Zpmi6JDHJe6pqF7dRWlpaQLLJHH5kk80a7pHSNAS7uiKzDsa8v/a3%2BDfjP4z/AAwsLH4a3mmReJvDXjDRfEugR63PJFZXVxp9/Dcm1nkijkeJJo0kh81Y5DEZBIEk2bGAM2H9tj4ZL%2Bzvqv7QureE/Eunromvt4f1XwfdWdu2sQa3/aCadHpmyKd4GmlupYY43WYwOJ45BL5bb6g0z9se88R%2BEtQ1bwX%2Byz8Stb8Q6D4mk0LxZ4EsG0NdU0G7W0hvR9pkm1SOyZXtrq0mQw3MpdbqPAzuC8t4O/Zg%2BK6/An4i%2BB/i58M/AXifU/iNrmoeJtV0UeM7%2B309NRnuE8ixS6TT/Pijgt7e0K6gkYm%2B0I0i28WFx5tbfsN/tgfDP4BeKfA/wKn8I2Gt/Fr4nnX/AIoQ3nxV1szWWkf2Zaae1jp%2BuT6fdXk93NFp9uJL6eFJE%2B0XDRCNhC0YB9b/AAc%2BLHgz48fCXwz8bPh1ezXGgeLdBtNX0aa4t2ike2uIlljLxt8yNtYZU8g5B6V57%2Bwf/wAkQ1z/ALLN8R//AFNdbrsvC/wt024%2BAulfB7XfCUHhKzg8PW2mvoXgLxReW0OkxRRqi29lfW62lwkcaoESRFhbao%2BVelef/wDBOnw9YeEv2br7wtpVxfS22nfFv4h21vLqeqT3ty6J4z1pQZbi4d5p3IHMkjs7HJZiSTQB5H/wWc%2BKdi3wr8K/snLrz2A%2BJmsvN4tvIG/eWHhfTE%2B3apcD0IjjUAHAcb1z1rW/4JOfCTUtS8B61%2B278Q9CjsvEnxeeG40bTVGV0Lwzbr5Wl6fFnoghVZCRjeGjJGVzXyF%2B1br2sft0ftr%2BIPDXhPUJDB4w8XW/wi8GXEByYNG090v/ABLqMfY4fyow44eKaRc8Yr9a/D%2Bg6P4V0Gx8L%2BHtPjtNP02zitbG1hGEhhjQIiKOwCgAfSvkctX9q57Wxj1hT92Prqk/u5pf9vpn1OUSeTcA1swWlbN6rhF9VgcHPkSXaOIxntJv%2BaGHitUi5RRRX1x8sFFFFABRRRQAUUUUAFFFFABRRRQAUUUUAFFFFABRRRQAUUUUAFFFFABRRRQAUUUUAFFFFABRRRQAUUUUAFFFFABXjP7L/wDyW/8AaO/7LNY/%2BoV4Xr2avGf2X/8Akt/7R3/ZZrH/ANQrwvQB7NRRRQAUUUUAFFFFABRRRQAUUUUAFFFFABRRRQAUUUUAFFFFABRRRQB5h%2B2p8IfFXx8/ZM%2BIfwd8CvajW/EHhS8tdHjvpSlvNdGMmKKVgCVidwqO2DhWY4OMHzD4a%2BBP2lvHPiX4zfEWb4f678Ita%2BKmk2%2Bl%2BFL7U5NI1WfwvJY6WYYtTu4bS/eKZ3urmUxwxSSBo7NDK0Jk2r9PUUAfLf8AwTq/ZV/aD/Za8cfFnRvirrHhC68M6nrOhjwZJ4W8LT6aLqG10GwspJys%2Bq38oG638orKRI8kMsxdlmVV8x/4KT/steJ/jV8WtU8G3XxT8ReIn8Qfs9ePb7wx4e1K105LbRr2z1fwjdQR2j2tpFcMJJY41Y3Es7DA2lcsG%2B8q8Z8c8/8ABQr4X5/6Iz48/wDTt4QrHE0IYrDzoz2kmn801%2Bpz4vDU8ZhamHqfDOLi/Rpr9fwPlT4K/tBPYftP/AP9urxPOk3hn4//AAptPAmual0XTPE9vKZUV26ETTJLAo65RicAV%2BiNfnX8Cv2ZtM%2BLvwH/AGlP%2BCXWpXK2GofD74hz6p8O7osUbSre/H9oaTKhHKhZVk3lcZWVhxmvqP8A4J4/tNan%2B1J%2BzNpfirxpbm08aeH7mbw98QNMlULJZ6zZkR3AdR93f8soXsJQOxr57IcRUpy9jV/5eJyX%2BOL5Ksf/AAKKmvKT7H3Trz4u8Ncuzz/mIwUY4LEryg6iw9W3aVqtCT/nhTb1nr7jRRRX058aFFFFABRRRQAUUUUAFFFFABRRRQAUUUUAFFFFABRRRQAUUUUAFFFFABRRRQAUUUUAFFFFABRRRQAUUUUAFFFFABXjPjj/AJSF/C//ALIz48/9O3hCvZq8Z8cf8pC/hf8A9kZ8ef8Ap28IUAezUUUUAFFFFABRRRQAV81fBD4jR/B/9hn4o/FiWQKPDPjv4r6qC3rb%2BLNelA98lQMV9K1%2Bdv7XvxBk8Bf8Ec/izbWVwI7zxH8ZvHOh2e5sBjc/EHVVlH/fkTflXFmWI%2BqZfWr/AMsZP5pO342OHM8RPC5bWrQV5RjJpLduzUUvNycUvNo4r/ggj8LX%2BJPiRvj3qcBl0f4b%2BDovC3hqaQE%2Bdq1/I2p6tcNnnzo2uEtyxyTGQP4QB%2Bo9fL//AARp%2BHlv8O/%2BCcHw2hFmsd1rWn3Gs3823DXEl1cyyrI3qfKaJc%2BiCvqCvP4awn1TJKKe8kpP1kk/wXKvkfecbqODzz%2Bx6WlLL6dPBwS2thoKlKX/AHErKvUb6uprqFFFFe6fIhRRRQAUUUUAFFFFABRRRQAUUUUAFFFFABRRRQAUUUUAFFFFABRRRQAUUUUAFFFFABRRRQAUUUUAFFFFABRRRQAV4z%2By/wD8lv8A2jv%2ByzWP/qFeF69mrxn9l/8A5Lf%2B0d/2Wax/9QrwvQB7NRRRQAUUUUAFFFFABRRRQAUUUUAFFFFABRRRQAUUUUAFFFFABRRRQAUVHe3tnp1nLqGoXcUFvBE0k880gVI0UZZmY8AAAkk9K5nwD8dPgj8VvAU/xU%2BF3xj8K%2BJPC9sZhc%2BJNA8Q215YReSMy7riF2jXYOWy3yjrigDqq8Z8cf8AKQv4X/8AZGfHn/p28IV33wn%2BOHwW%2BPWgTeK/gZ8X/C/jTS7e6Ntcal4T8QW2o28UwVWMTSW7uquFZTtJzhge4rgfHH/KQv4X/wDZGfHn/p28IUAeW/tjfCf44/s7/Ho/8FGf2WtEk8Szx6HDpfxW%2BHSIPM17SYGLLdWjAZF3Cp4XncqAAfeSTzuD4ga98NPFmpf8FSP2DLEfEb4UfEmC3uPi38PdNj26pY3NuhR9RtI84FygJ8%2BAjLHLZYMJIvvyvkr4sfsNfG34JfFHWv2l/wDgnD8QNO8O6xr1wLvxh8LvEMG7w94lmGd0q7MNZXLc5kTAZsZKAuW%2BbzHLq1KbrYe7jfmtG3NCdvjgnpJSWlSm9JLVWZrw9nuYcD5pWxWHoLFYPEpwxOGle04txk5QaalGXNGM04tThUjGpTu%2BenU%2BhPgP8fPhL%2B0x8MdO%2BL/wV8ZW2t6FqSZiubc4aJwBuhlQ/NFKucMjAEfQg12Nflpp/wAQPDOlfHLUvFHwS8az/so/tAX0yy%2BK/hN8R1/4pDxjPyPMjlAEJMhJC3ERV2LNsTLNIfp74Uf8FR/CGj%2BKbb4Lft0eArr4K%2BPZDsgOvSb9B1jGB51lqQ/dMh64dhtJC73INXgc/wAPUShiWoy25vsN9tbOEv7lRRd9nJWZ9quF8t4pw08y4KrvGUY6zof8xmH6uNWjZSqRjqvbUYyTSTnSpNs%2BraKjtbq1vrWO%2BsbmOaGaMPDNE4ZXUjIYEcEEcgipK%2BhPhmmnZhRRRQIKKKKACiiigAooooAKKKKACiiigAooooAKKKKACiiigAooooAKKKKACiiigAooooAKKKKACiiigArxnxx/ykL%2BF/8A2Rnx5/6dvCFezV4z44/5SF/C/wD7Iz48/wDTt4QoA9mooooAK4748fGzw1%2Bz98OpfiJ4m0jU9U3alY6Zpmi6JDHJe6pqF7dRWlpaQLLJHH5kk80a7pHSNAS7uiKzDsa8v/a3%2BDfjP4z/AAwsLH4a3mmReJvDXjDRfEugR63PJFZXVxp9/Dcm1nkijkeJJo0kh81Y5DEZBIEk2bGAM2H9tj4ZL%2Bzvqv7QureE/Eunromvt4f1XwfdWdu2sQa3/aCadHpmyKd4GmlupYY43WYwOJ45BL5bb6x7n9v3wfHocNpZfA7x7eeOZPGs3hWX4V2qaSdcttSi01dVkWR21AWCxjT3huvN%2B1lClxCoYyyLGcfwd%2BzB8V1%2BBPxF8D/Fz4Z%2BAvE%2Bp/EbXNQ8Taroo8Z39vp6ajPcJ5Fil0mn%2BfFHBb29oV1BIxN9oRpFt4sLjz74Zf8ABPv46/Auey%2BPHwxsvCNz8Q5PijqXinWPCev%2BP9Xu9MktbzQbfRTa/wBt3NpcX1xOqWNldG6mtiZJPPj2Ro6NGAfV/wAHvit4O%2BOnwr8PfGP4fXc02i%2BJtIg1HTWuYDFKscqBgkkbcxyLkq6HlWVlPINfkx/wVa8f29p%2Bw54X%2BD8t8YTrf7RPxX1khHwWGn%2BJtfCg%2B3mXcf4gV%2Bm3wC/Zoi%2BGP7JXh39mnxr4ovb2ay0FbbXdX8O6rd6TJPduxluZbaa2ljuLZTM8hTZIHVCAWPJP48ftN6JpnxA%2BNHhX9lnTHvr3S9I8e%2BJ/D9nJqmqT31yL/U/ihqwCyT3DvNPI1rZ5Mkjs78liSST8xxhVlDIakI7zcYr5tf5Hr8M4KlmnGWT4Cr8FXGYZS/69wqqvU%2B6nhpt9Lbn7R/sxeBv%2BFY/s2fD74cGHyzoPgnStPdMchobSKM598qa7mgAAYAor6SlTjSpRpx2SS%2B5JfocWOxdXMMdVxVX4qk5TfrOUpv8AGTCiiirOUKKKKACiiigAooooAKKKKACiiigAooooAKKKKACiiigAooooAKKKKACiiigAooooAKKKKACiiigAooooAKKKKACvGf2X/wDkt/7R3/ZZrH/1CvC9ezV4z%2By//wAlv/aO/wCyzWP/AKhXhegD2aiiigAooooAKKKKACiiigAooooAKKKKACiiigAooooAKKKKACiiigDyL9vv4feNPit%2BxR8U/hx8PNGl1PWdZ8Daja2WkQOFfUy0DbrNSxCgzruhG4hf3nJAya84/Z38a6VN8UvjX8cZvhD4703wZ4vjsJdH0bVPhjq1rd6q%2BmaPHHfXBsJbVZkaRGt7OJJUR7k2JWFZFVCfqSigD5j/AOCeXiPUPjH4k%2BIf7UPjfwH4t8J%2BKfHEulx3PhDxL8P9W0P%2BwtKtI7hNPtGk1C1gW/vMS3ElzLAZI43mSFWaOKKSXVv9N%2BK9p/wU28F3njbxp4e1DQrj4PeOD4a07SvDE9nd2CDVvCXmLc3Ml7Ml2TlMFIbcLtOQ24bfoevGfHH/ACkL%2BF//AGRnx5/6dvCFAHs1FFFAHI/GX4C/Bj9obwk/gb43/DLRvE%2BlPkra6vZLL5TEY3xsfmif/bQqw7Gvkv4lf8Ek/H3hLwldeDP2Tv2iyfCEx3f8Kj%2BMGmL4i8O%2B0cDyg3Fko6h490gPIYV9xUV5%2BMyvA4581WHvWtzLSVu11uvJ8y8jjqYGhPFwxcHKnXg041KcpU6kWtnGpBxkrdNWvI/IFvD/APwUo/4J3zy3nw4%2BFfjjwfo1vIZJdH8OSt418FT85LJA7fb9JhzyzbpZDj3Ar179n7/g4j%2BEGryw%2BG/2ofhxPoN2HaOXxF4PkfULBtn35ZLVwl5arnPytHIeK/SCvNfjT%2Bxz%2Byt%2B0SsjfGv9n/wr4iuJVw2oX2jx/bFH%2BzcKBKv/AAFxXhrIs1y93y7FWj/JNc0fwtb5Jeh9jPjPP8dDkzynRzL/AKeVouhivni8Mouq/PE4es31m9WXfgh%2B1J%2Bzr%2B0npI1n4E/Gfw94nj8vfJDpmoo1xAP%2BmsBIliPs6qa72vgv4k/8G837GGuasPE/wX8ZeOfh3qkD77GTRdd%2B0w27diBcBpuO2JhT/Dv7Hn/BZX9m0x2/wN/b88MfErSLbJXR/ito86ySqOieevnzk9v9eg%2Bnbsp5jndDTF4S/wDepSUl/wCAy5Zfiz57G43K9ZUaFen/AHX7KuvlOk6Un5c1FPvY%2B8aK%2BIn/AG%2Bf%2BCm3wUsYV/aU/wCCWep65H5rCfXPhT4kTUFZB/EtlGJ5V9fnkXPtTNA/4OAP2FjqzeHvilo3xC8A6jC226s/FXhBg8Ld8rbPK%2BPqoPtW3%2BsOUxaVap7N9pxlD/0qNvukzzv7Qw6g5yU4xW7dOqorzcvZuKXm5RXmfcFFfPfgj/gq7/wTm%2BIIQ6D%2B154Pg8z7v9t3j6Zj6/bFix%2BNeueD/jh8FviGEPgD4v8AhfXBJ/qzo/iC2ud308tzmvQo47BYn%2BFVjL0lF/k/0DD5ll2L/gVoT9Jxf5Sv%2BB1FFFFdR2hRRRQAUUUUAFFFFABRRRQAUUUUAFFFFABRRRQAUUUUAFFFFABRRRQAUUUUAFeM%2BOP%2BUhfwv/7Iz48/9O3hCvZq8Z8cf8pC/hf/ANkZ8ef%2BnbwhQB7NRRRQAUUUUAFFFFABX4kfsveEbv4gf8FUb%2B2vN08Opftl%2BMZbJWGRCvh281W9kA9Pn1BW%2BtftvX5df8E/vhvAv/BU2/tkaOQ6Xrvxe8aXDR8iO4vvHWoaSqk/3zBaRn6V89xDh3iI4aPT2sP6/Bn2PAOFcuJXmD2weGxtf0l9UqUYP/wPFI/UWiiivoT44KKKKACiiigAooooAKKKKACiiigAooooAKKKKACiiigAooooAKKKKACiiigAooooAKKKKACiiigAooooAKKKKACiiigArxn9l/8A5Lf%2B0d/2Wax/9QrwvXs1eM/sv/8AJb/2jv8Ass1j/wCoV4XoA9mooooAKKKKACiiigAooooAKKKKACiiigAooooAKKKKACiiigAooooAKKKKACvGfHH/ACkL%2BF//AGRnx5/6dvCFezV4z44/5SF/C/8A7Iz48/8ATt4QoA9mooooAKKKKACiiigAooooAKwvHvwu%2BGfxU0o6F8T/AId6F4jsiCDZ69pEN5Fz1%2BWVWH6Vu0VMoRnHlkrrs9fzua0K9fC1VVozcJrVOLcWn3Ti018mj5R%2BKn/BE3/gm/8AFMzXLfANPDt3MCDd%2BE9VuLHaD6Qq5g/8h189/ET/AINq/hDdW7wfB39o7WNKj3bkt/FHhmz1It32GaH7NIo7ZByK/TKivExPDOQYvWph437pcr/8lt%2BR9AuLc7qK2LdPErtiaGHxKfq69CpL/wAqf5n5LS/8EZP28Pg8QPhb4n8ManYwDEY8JfEvxBoOovjpjz3mt0/Xmm/8K4/4KUfCL5fFOiftg6dHF/y38PfFTS/GqMPVIfJibHopOe1frXRXD/qjgaf%2B71Zw%2Bd1/7b%2BYLM%2BDcSrY3hzBy86P1nBy/wDLbFcl/wDuF6JH5Kp%2B2f8AHfwAwHjf/gpx8Yvh0qnD2vxa/ZWgk2%2BzywGVh9QK7vwT%2B3L%2B0T4i2f8ACFf8Ff8A9m3WS3%2BrXxp4Wk0Rn9AQzRkH2r9LmVXUo6ggjBBHWuF8bfst/szfErefiH%2Bzx4H10yfefV/ClncMT65kjJz70f2FmVL%2BHiW/V1Y/%2Bk1JL8A%2BoeEmK%2BLB5hhn/wBOceqqXpHE0b/fM%2BZfCHxc/wCCuvidQ/gT4h/sg%2BNoSMo2ia5rBlcevyMyV0H/AAtr/gsxpJ/4mH7JHwf1fHX%2ByvHtxb7vp5ynFdB4v/4I%2Bf8ABNjxqzSap%2Bylodq5OQ%2Bi3l3p5U%2Bo%2ByzRgVgf8Ocf2d9EGPhX8b/jV4Fx/q/%2BES%2BKF3D5f084SUfUs9p/ak/St%2BlSj%2Bof6peGuI/3fP8AMKHlVw9Oql86NW7/APABP%2BGov%2BCsmmf8f3/BLTQ9Tx1/s343adDn6ebHR/w21/wUYsv%2BQ3/wSG12PH3vsHxe0i5/LagzSj/gnN%2B0p4Z/5Jl/wVU%2BMdpt/wBX/wAJUlnrePr5qJuo/wCGbP8AgrT4W/5F7/gpP4W8Sqv3I/E3wgtLXPsWtZCT9etH/CxD4vb/ACeHn%2BkWH/EO8nrf7pxdT9KtGtSf/k2EqJfOQn/DwT9sK0/5C3/BJ34mJjr9j8Rafcf%2BgkZo/wCHk/x7tv8AkJf8Esfjkvr9lsLWb%2BUgpfsv/Bb7wyf3Gq/s2eJ4F6/aINbsrh/pszGPxo/4Xr/wWC8Of8hn9hD4c%2BJNvX/hHvietnv%2Bn2pDj8aPrONj8VSuvWhB/wDpNw/4hXn1T/deIcHU9MRhov7qtKjb5sT/AIehfEOD/j//AOCYP7SC%2Bv2fwTFL/KcUf8PWdTh/4/f%2BCZ37VS%2BvkfCgSfyuaX/huP8A4KBaJ/yO/wDwSP8AFEIX7x0H4m6VqX5BFXNH/Dz74kaN/wAjp/wTC/aMt8ffOi%2BDodRA%2BmyZc0fX5r4sZKP%2BLD2/9tD/AIhD4ky/gYqlV/wVcun%2BWMiJ/wAPadLT/j6/4J3/ALVMHr53weIx%2BVyaP%2BHunglP%2BPn9h39peH1834RyDH5T0v8Aw%2BB%2BDdh/yN/7L3x98PY%2B9/bPwquE2/XY70f8PtP%2BCf8AY/8AI1%2BOPFOg4%2B9/a/w/1VNv12W7Uf2lBb5jBetOK/NxD/iDnjI/4eGrT/wYejU/9NV6n4Cf8Pffhcv%2Bv/ZE/aIi/wCunwmn/pLR/wAPhfgqv%2Bv/AGZvj3F/10%2BFVz/8XWnpP/BaL/gmPrOPsn7VenJnp9r0HUoP/RtsuK6TS/8Agqd/wTu1fH2T9r7wUmen2rVPI/8ARgWtY47n%2BHMqT/7dp/8Ayw4q/hZ4v4X%2BLg8TH1wNT9EziP8Ah8Z%2Bz%2Bv%2Bu%2BAvxvj/AN/4W3X%2BNH/D5T9mdP8AX/CX4xRevmfDC8Fer6b/AMFAf2FNWx9h/bK%2BFxJ6JJ4809GP4NKDW/p37WH7LOr4/sn9pXwBdZ6fZ/GVi%2Bf%2B%2BZTW8amKn8OOpv8A7dh%2BlU8itwZ4iYb%2BLTqx/wAWCqr84o8J/wCHzv7Jaf8AHz4M%2BKcPr5vw0vxj8lo/4fUfsVp/x9Q/EKD/AK6/DnUR/KKvpKw%2BMXwi1XB0v4p%2BHLnPT7Prlu%2Bfyetmx1vRdTGdN1e1uM9PIuFf%2BRreNPNZfDioP/uGv0qHl1cp4qw/8Wso/wCLDtfnNHyp/wAPsv2DF/4%2BfEvjGH/rr8PdUH8oDSj/AILc/wDBPQcS/EbxIh9H8Aat/wDI9fWlFX7DOv8An/D/AMFv/wCWHP8AVuIf%2Bgmn/wCCX/8ALT5LP/Bbr/gnj0X4l%2BIiewHgDVv/AJGpP%2BH2f7BEnFp4q8X3B7LD8PdUJP5wCvrWij2Gdf8AP%2BH/AILf/wAsD6txD/0E0/8AwS//AJafJX/D6D9kOfjSfC/xPvyfurZ/DW/JP03IKqfBP9sXwJ%2B1n/wUL8GN4G%2BHfjrQk0H4M%2BMvPl8Z%2BFZdMW68/VvCu3yPMJ83b5J3Y%2B7vT%2B9X2BXjPjj/AJSF/C//ALIz48/9O3hCtaFDMo1VKrWUo9lBK/z5m19xvhsPm8KylXxEZR6pU1G/z55NfcezUUUV6B6gVx3x4%2BNnhr9n74dS/ETxNpGp6pu1Kx0zTNF0SGOS91TUL26itLS0gWWSOPzJJ5o13SOkaAl3dEVmHY15f%2B1v8G/Gfxn%2BGFhY/DW80yLxN4a8YaL4l0CPW55IrK6uNPv4bk2s8kUcjxJNGkkPmrHIYjIJAkmzYwBmf8NufC61/Zs179pXXvC/iPS7bwxqdxpOv%2BFb21t/7WstVhvBZmwZY52tzI07RqkgnMDLKkvm%2BW2%2Bub/4eMeC5bSHRrH4A/EO48ayeOLzwpJ8OUGjLqcN/a6YmqzFrh9SXTmjWylhl3JdsT5gQDzFdE5rUf2QP2jPE/7L/wASvhVr0vgq28RfE3xLP4m1uKDXLufTJZJdQhaTQZC1mkjWUum2sVnLeBRIxuJ3W2TCqfO5P%2BCZXxN/4QiDRr34CfA3VvCo%2BJ2o%2BJE/Zz1HU7geC9NtrjRrewjS3n/sl8yJdRXV/s/s9ITLqU%2BFWRFnYA%2Byvgt8WvB/x8%2BEHhb44fD6W5fQvGHh%2Bz1nR3vLYwym2uYVmj3oeVba4yOx7nrXwd/wSAtLnxb%2B3n%2B1X40u4j5fhXx/rXh2wkPRln8Va7fSgfRiufqK%2Bx/gb%2Bz9rHgr9kjwp%2Bzd8V/Huqa1faR4Qs9I1nXtG12%2B0%2B5nkiiVWaG7hmS6jAK4WTzRKVA3MSWJ%2Ba/%2BCH/wus/AWh/tH6tateul1%2B1T4306zn1PUp725ltbLVJoo2luLh3mnfc0u6SR2diCzMSSa87G03VxOGXRTcn8oSt%2BLPs%2BGMbDA5HnUn8VTDwpL/uJiqHN98abT8mfclFFFeifGBRRRQAUUUUAFFFFABRRRQAUUUUAFFFFABRRRQAUUUUAFFFFABRRRQAUUUUAFFFFABRRRQAUUUUAFFFFABRRRQAUUUUAFeM/sv8A/Jb/ANo7/ss1j/6hXhevZq8Z/Zf/AOS3/tHf9lmsf/UK8L0AezUUUUAFFFFABRRRQAUUUUAFFFFABRRRQAUUUUAFFFFABRRRQAUUUUAePf8ABQc%2BOR%2Bw58WD8N/7T/tj/hAtT%2Bz/ANib/t2z7O/m/ZvL%2Bfz/ACvM8vZ8%2B/bt%2BbFfNnwi8S/DzTvhj%2B094a/4Jya/4ag8O6l4Wmf4K2HgW6t1sLrxLF4dzeHSUhPluElfTTKYAVW5aXfiUy196UUAfG//AATLP7Ph%2BMfj3/hi06R/wqf/AIVv4K8z/hHNv2H/AISrfrP9peZs4/tH7H/ZH2vd%2B93eT5n7zfXoN/qXxXu/%2BCm3guz8beC/D2n6Fb/B7xwPDWo6V4nnvLu/Q6t4S8xrm2ksoUtCMJgJNcBtxyV2jd9D184ftH6v8a9H/bw%2BE8/wO%2BH/AIW8Rak3wj8drd2nivxhc6LBHB/anhIl0lt9PvWd920bDGowSd%2BQFIB9H0V4z/wnH/BQv/o1/wCDP/h%2BNW/%2BZej/AITj/goX/wBGv/Bn/wAPxq3/AMy9AHs1FeM/8Jx/wUL/AOjX/gz/AOH41b/5l6P%2BE4/4KF/9Gv8AwZ/8Pxq3/wAy9AHs1FfOOk/tHft26x8Z9f8Agdb/ALKHwkXVPDvhfSNdvLl/jrqnkSQajc6lbwohHhjcXVtLnLAqAA8eCxLBeo/4Tj/goX/0a/8ABn/w/Grf/MvQB7NRXjP/AAnH/BQv/o1/4M/%2BH41b/wCZej/hOP8AgoX/ANGv/Bn/AMPxq3/zL0AezUV4z/wnH/BQv/o1/wCDP/h%2BNW/%2BZeuX8A/tHft2/ETxX438IaP%2Byh8JIbjwH4oi0LVZLn466oEnnk0rT9TDxbfDBJTydRhUlgp3o4xgBmAPo6ivGf8AhOP%2BChf/AEa/8Gf/AA/Grf8AzL0f8Jx/wUL/AOjX/gz/AOH41b/5l6APZqK8Z/4Tj/goX/0a/wDBn/w/Grf/ADL0f8Jx/wAFC/8Ao1/4M/8Ah%2BNW/wDmXoA9mor5x%2BEX7R37dvxl8KXfi/w5%2Byh8JLa3s/FGt6FJHe/HXVFcz6Xqt1pk7jb4YYbGmtJGQ5yUZSQpyo6j/hOP%2BChf/Rr/AMGf/D8at/8AMvQB7NRXjP8AwnH/AAUL/wCjX/gz/wCH41b/AOZej/hOP%2BChf/Rr/wAGf/D8at/8y9AHs1FeM/8ACcf8FC/%2BjX/gz/4fjVv/AJl65f4I/tHft2/Hj4MeEPjj4V/ZQ%2BElrpfjPwvp%2Bu6bbah8ddUWeGC7to7iNJAnhhlDhZAGCswyDgkc0AfR1FeM/wDCcf8ABQv/AKNf%2BDP/AIfjVv8A5l6P%2BE4/4KF/9Gv/AAZ/8Pxq3/zL0AezUV4z/wAJx/wUL/6Nf%2BDP/h%2BNW/8AmXrl/jd%2B0d%2B3b8B/gx4v%2BOPir9lD4SXWl%2BDPC%2Boa7qVtp/x11Rp5oLS2kuJEjD%2BGFUuVjIUMyjJGSBzQB9HUV4z/AMJx/wAFC/8Ao1/4M/8Ah%2BNW/wDmXo/4Tj/goX/0a/8ABn/w/Grf/MvQB6pqvg3whruf7c8KabeZ6/a7GOTP/fQNc3qn7NX7Oet5/tr4A%2BCbzPX7V4Vs5M/99RmuP/4Tj/goX/0a/wDBn/w/Grf/ADL0f8Jx/wAFC/8Ao1/4M/8Ah%2BNW/wDmXrOVGjU%2BKKfqk/zTO2hmWZYX%2BBXnD/DOcf8A0mcTQ1L9hH9iHWCTqf7HfwumY9XfwDp278/JzWDqP/BMj/gnxqmftP7HfgBc/wDPv4dhh/8ARYFYvxd/aO/bt%2BDXhS08X%2BI/2UPhJc2954o0TQo47L466ozifVNVtdMgc7vDCjYs13GznOQisQGOFPUf8Jx/wUL/AOjX/gz/AOH41b/5l655Zdl0/iowf/bkf/kT16PGXGOH/hZliY%2BmIr//AC45XUP%2BCQ3/AATa1LJuP2S/Di5/595bmL/0CUVi33/BEr/gl/qBJn/ZZtlJ/wCeHinVov8A0C7Feif8Jx/wUL/6Nf8Agz/4fjVv/mXo/wCE4/4KF/8ARr/wZ/8AD8at/wDMvWEslyeW%2BGp/%2BAR/yPUpeJviRQ/h51i16Ymt/wDLGeZf8ORP%2BCdFv/yB/hNrmnen2Lx7q64/76uTR/w5f/Y4g/5BOrfEew9PsfxI1Bcf99SGvTf%2BE4/4KF/9Gv8AwZ/8Pxq3/wAy9cv4%2B/aO/bt%2BHfivwR4Q1j9lD4STXHjzxRLoWlSW3x11QpBPHpWoamXl3eGAQnk6dMoKhjvdBjBLLH9hZL0w8F6Rt%2BTR0f8AEVvEx/FnGJl/iquX/pUZHNf8Odf2fof%2BQZ8ePjdZegtfildDH5g0n/Don4exf8g/9s79o%2B09Ps3xalGPzhNenf8ACcf8FC/%2BjX/gz/4fjVv/AJl6P%2BE4/wCChf8A0a/8Gf8Aw/Grf/MvR/YWUf8APlffJflNB/xFTxEe%2BZTfrGjL/wBKw8jzH/h03ZRf8eH/AAUX/artvQQ/GA4/W2NU/gr%2Byrefsyf8FC/Ba3P7THxT%2BIq618GfGWwfEzxUNTOn%2BTq3hXP2ciNPL8zzRv67vKj6befWv%2BE4/wCChf8A0a/8Gf8Aw/Grf/MvVDwP4H/as8Y/tWeHPjd8bvhx8PfDOjeGfh74h0OGHwr8Q77Wrq7utSvtEuEZkuNIsUijRNLlBYO7FpUAXGSNqGVZfhqqqUoWkv70/wAnNr8Dz804%2B4vzvAzweOxXPTna69nh1ezTXvQw1Oa1S2muzurp%2B60UUV6B8eFFFFABRRRQAV4N/wAE7PCul%2BGPgr4um04Nv1X48/Eq%2Bu2bHzSt4z1hO3YKij8K95r5K/ZK8Wftnaf8PfFFn8MfgH8MNX0JPjT8Rf7P1HXvi7qOm3cy/wDCZ6yWMltFoFykRDbgAJnyADkE7QnFNpvoXGpUhCUE9JWuu9ndfc9T61orxn/hOP8AgoX/ANGv/Bn/AMPxq3/zL0f8Jx/wUL/6Nf8Agz/4fjVv/mXpkHs1FeM/8Jx/wUL/AOjX/gz/AOH41b/5l6P%2BE4/4KF/9Gv8AwZ/8Pxq3/wAy9AHs1FfOPwR/aO/bt%2BPHwY8IfHHwr%2Byh8JLXS/GfhfT9d0221D466os8MF3bR3EaSBPDDKHCyAMFZhkHBI5rqP8AhOP%2BChf/AEa/8Gf/AA/Grf8AzL0AezUV4z/wnH/BQv8A6Nf%2BDP8A4fjVv/mXo/4Tj/goX/0a/wDBn/w/Grf/ADL0AezUV84/G79o79u34D/Bjxf8cfFX7KHwkutL8GeF9Q13UrbT/jrqjTzQWltJcSJGH8MKpcrGQoZlGSMkDmuo/wCE4/4KF/8ARr/wZ/8AD8at/wDMvQB7NRXjP/Ccf8FC/wDo1/4M/wDh%2BNW/%2BZej/hOP%2BChf/Rr/AMGf/D8at/8AMvQB7NRXjP8AwnH/AAUL/wCjX/gz/wCH41b/AOZeuX%2BLv7R37dvwa8KWni/xH%2Byh8JLm3vPFGiaFHHZfHXVGcT6pqtrpkDnd4YUbFmu42c5yEViAxwpAPo6ivGf%2BE4/4KF/9Gv8AwZ/8Pxq3/wAy9H/Ccf8ABQv/AKNf%2BDP/AIfjVv8A5l6APZqK8Z/4Tj/goX/0a/8ABn/w/Grf/MvR/wAJx/wUL/6Nf%2BDP/h%2BNW/8AmXoA9mor5x8fftHft2/DvxX4I8Iax%2Byh8JJrjx54ol0LSpLb466oUgnj0rUNTLy7vDAITydOmUFQx3ugxgll6j/hOP8AgoX/ANGv/Bn/AMPxq3/zL0AezUV4z/wnH/BQv/o1/wCDP/h%2BNW/%2BZej/AITj/goX/wBGv/Bn/wAPxq3/AMy9AHs1FeM/8Jx/wUL/AOjX/gz/AOH41b/5l65fVv2jv27dH%2BM%2BgfA64/ZQ%2BEjap4i8L6vrtncp8ddU8iODTrnTbeZHJ8Mbg7NqkBUBSCEkyVIUMAfR1FeM/wDCcf8ABQv/AKNf%2BDP/AIfjVv8A5l6P%2BE4/4KF/9Gv/AAZ/8Pxq3/zL0AezUV4z/wAJx/wUL/6Nf%2BDP/h%2BNW/8AmXo/4Tj/AIKF/wDRr/wZ/wDD8at/8y9AHs1FfOOk/tHft26x8Z9f%2BB1v%2Byh8JF1Tw74X0jXby5f466p5EkGo3OpW8KIR4Y3F1bS5ywKgAPHgsSwXqP8AhOP%2BChf/AEa/8Gf/AA/Grf8AzL0AezUV4z/wnH/BQv8A6Nf%2BDP8A4fjVv/mXo/4Tj/goX/0a/wDBn/w/Grf/ADL0AezUV4z/AMJx/wAFC/8Ao1/4M/8Ah%2BNW/wDmXrl/AP7R37dvxE8V%2BN/CGj/sofCSG48B%2BKItC1WS5%2BOuqBJ55NK0/Uw8W3wwSU8nUYVJYKd6OMYAZgD6Oorxn/hOP%2BChf/Rr/wAGf/D8at/8y9H/AAnH/BQv/o1/4M/%2BH41b/wCZegD2avGf2X/%2BS3/tHf8AZZrH/wBQrwvR/wAJx/wUL/6Nf%2BDP/h%2BNW/8AmXq3%2Byt8OfjT4P1j4oeO/jpoHhfSdU8ffEKLXLPSvCfiW51a3tbWLQdH0xVe4uLKzZpGk06Vyoi2hZEG5jnAB63RRRQAUUUUAFFFFABRRRQAUUUUAFFFFABRRRQAUUUUAFFFFABRRRQAUUUUAFfK/wC09%2B1p8XPhh8Y/FmteAfDvg%2BTwx8H/AA/4fvfGp1rSLibVdUt9Xv5UuYLC4juI0svItrOO4zJFOLmQpGRD5fmn6orxn4z/ALEPw4%2BN3xSPxM1zxz4q0uLUbXSLXxf4a0a6tU07xTBpd7Je2MV8stvJMFjmmlz9nlgMschimMsYVAAezUUUUAFFFFAHzH4c/aV%2BJkP7f/ij4P8AxG1jw94T8Nr4gtNE8GRaj8ItZS68YwDQINRxB4ja7XTmlju7nUALQQvJ5dpMAoLNIv05Xlfiz9lqDx/8ZNI%2BKfj343%2BNdX0rw9rsetaB4AuDpkWjWOoR27wRzhobJL2XZ5kkipNdSRiR92z5EC%2BqUAFFFFAHi/8AwUF%2BLvxw/Z%2B/ZH8afHr4BXvhSPWPBOhXeuXUHjDRbm%2Btru0tbaWZ7dEtrq2ZJXZEUSFyqAsSj8CvP/Hn7Wnxc8F/HjxbqfhTw74Qi%2BHnhD4x%2BEfh94ys5tIuDreq6rrsGipHqEN2lwsMccH9uaTGYpLeV5EhnxLHtQV7D%2B1j%2BzjZftafAjXv2fda%2BKvinwjpPieylsdcv/CC6d9rubKWJ4prbdf2l1GiOr8siLICo2uvOeLg/YB8HT/EWz%2BIvir44%2BPtdY6zpOueJtG1CXSorHxPrmmJGljq17HbWETLcRCC0wts0EDGxti8TGPJAPe6KKKACvF/2yfi78cPgla%2BAfGPwsvfCn9jah8TPDnh7xfY%2BINFubm6ubXVdZsdNBs5YbqFLaSNbmWTfIk6koi7OSa9oryr9q79lt/2qvDeheF5/j7438DW%2BheJLDXUbwXDo7Pd3tjeQXlm0p1LT7wbYri3jcLGEDcrJvU7QAecfs8/tK/EzW/2qvFvwR%2BKGr%2BHvCenQ%2BKdbt/BPhKT4Razplzr1tC6Sm/t9auLv7BqDsZJpZYraAvyXYrhifpyvJdJ/ZRD/GTRfjL8R/2gPHfjWbwvd3l34T0LxCNJhsNHurm3ktZLiJbDT7aWV/s808K%2BfJKqLO%2B0AkEetUAFFFFAHh/7d3xc%2BPH7P3wa1f46/Cjxj4FsdP8AC2i3N5e6L4s8M3t/c%2BIb3KLZ6ZZyW17B9nmuJSLdG8q6ZpZ4gsLH5W8/%2BCP7X3xn1z4l%2BCv7W8GeEtI%2BGnjf4n%2BKPht4V8Nadpc0er6Jf6BDq2%2Bee5Fw1vNBI3h/U0WGO3iMatbHzJMsB6f%2B0r%2ByDB%2B0l488EfECb9oHx34QufAN3c3ui2PhiLRp7OS9lQRreTQanp14jzwx%2BYsMgCmMTykfM2RV8B/sNfD3wH8Zbf4uw/EXxdqUGna7qevaJ4Q1K5sv7J0rW9RjePUNUgSK1Sfz5xPdlleZ4Ua%2BuTHFH5nAB7XRRRQAV8v/ALXPx4/aX%2BC3xE0/wppUPgDxro/jmHWrbRfhzF4PvpNYS1tNDuruS/uJxevFdWwuore2khFrED9vhQTGRkST6grw6b9ia4j/AGj/ABX%2B01on7VfxL07V/Fumw6dc6XDB4fntNPs4YGjhtrNrnSZbm3iWV3utizbXncu4cHbQAz9hD9oPxv8AHv4e3l18V/H2jX3i7ThZtr/huy%2BF2r%2BEbzQHntllEFzZavdT3Dgtv8u4ASORUO0NtJr3SvN/gd%2Bzdp3wZ8T%2BJPiHrHxS8U%2BOPFXiuKxt9Y8T%2BLmsFuXtLMTfZbVItPtbW2jija5uXG2EMzXEhZmyMekUAFFFFAHxz/wUE/bj%2BKn7GHjn%2B09c0XQPGPhF9G1HW7fwrL8OdTspbdNN0a%2B1JJP%2BEimun0ye7%2B16aNlisCXQjmWUDbC0jevfs0fF3456t8VPG/7PX7R1z4U1DxP4R0nQ9aj1rwVpFzYWNzY6oLyNIjBc3Ny6yxXGnXal/NxIhibZGSVFb46/sJeCP2nNaurX4/8Axb8a%2BKPBdzJcSL8MryTTYdFikmsZrJm329lHfSAR3EzBJbp0Dvu2/IgXp/2fP2ZtI%2BAd5r3iK7%2BKHizxx4j8SGzj1bxV41uLN76W2tIjFa2o%2Bx21vCsUQeVhiPezzyu7Ozk0AelUUUUAFfEf7U/7ZX7Wfwb%2BNXiD4UeDvDfhzxrqdhotxrvhgJ8D/EEcmigajplqhhb7c48TSCx1S487%2By/KeFoSsojEwjr7crw/Xv2LdT8S%2BPT8Tta/a5%2BKM2t6fBeReDbwpoAHhVbqaGSf7JGNJ2Ts0cC2%2B69W6ZYmcKVd2cgHVfssfFh/jJ8I4PFl78TNG8VX8Oo3Vlql9o3gy%2B8Oi2uIpWVrWbTdQuJ7qznjGFeOZw%2Bfm2qGAr0auG%2BAfwF8PfADwzqejaV4p1vxBqOv69ca34k8SeI5oGvdVv5giNPKLeKGBMRxQxKkMUcapEgCjBJ7mgAooooAKKKKACiiigAooooAo%2BKPENh4S8Naj4r1UObXTLGa7uREuW8uNC7YHc4U185/sTftJ/Gvx/4p0fwZ8bPD3gyzHjr4W2XxG8Mw%2BDNKuLQaZHeXBN3p92ZriUXc0b3Ns/2xBAJ2lmJgj2gv9LXdpa39rLY3tuk0M0bRzRSqGV1IwVIPBBHGK8h/Zm/Yr8Bfswaq%2Br6B8QfFviWW28MWPhnw6PFl7azDQNCs3ke3021Nvbwlo1MnzSzma4kEcXmTP5a4APYqKKKACuF/ag8efEX4Wfs0fET4nfB/wouveLfDngXV9U8LaG1jNdDUdRt7OWW2tjDAyyzCSVETy42DtuwpBINd1Wd4t0S/8S%2BGNQ8P6X4r1HQrm9tJIbfWtIWBrqxdlIE0QuIpYi6nkCSN0yPmVhkEA8u/Yp%2BLU/xQ%2BGd9Zat8QvD%2Bs6n4d1VdOvNM0T4Yan4OfQ0FtBJFZ3Glapcz3MLhHEiu3lo8UsWxMDe/sVeefAf9nbSfgdeeJfEdz8RPEnjHxJ4v1GG88ReKfFb2Yu7ow26W8EQjsba2tooo40AVY4UyWdmLMzMfQ6ACiiigD5c/ao/ax%2BKH7OHxe8cWXxK0bwl4i%2BF9h%2Bzv4v8AHttoVvolwmqu2iDS1ntri5kuXt5op1vpwEFshUImXfLCu3/Zn%2BL/AMfNU%2BLnjL9nX9pZ/CV54o8MeGPD3iWPVfBWk3NjZSWWrPqVutsYbm5uXMsNxpF2DKJAsiPE3lxnctQfGP8AYV8O/HT46t8ZfHnx28cy6bN4K1PwjffD2GDRf7Eu9G1Jbb7faSF9Na9Ina0gdnF0HUoQjIjMh6T9nf8AZd0P9n2%2B1rxHP8UPFvjfxDr9rYWV/wCJ/G1zaSXpsLFJFs7MfZLa3j8qIz3DglDI73Mru7s2aAPT6KKKACvkT41/tL/tbeDNd/aA8CW/hXwZ4svfAXh/wp4k%2BG1jpPw/1O/nWPUdV1KEJeWsV48uozwLpsc6m2FuS5IVflVq%2Bu68Ll/Yo8QxfHTxt8f9C/bQ%2BK2lat430ix0y5sbKz8MNaabbWVxcz2aWwl0V5P3RvLpQZnlLrORJ5hVCoB1f7Knxbm%2BMvwpHibUfido3inUbXVbmx1a60fwRf8Ahs2dxE3zWs%2BmajcT3VpOildyTMGIZW2qrCvSa4T4B/APQPgDoWs2On%2BLdc8R6r4m8QS654n8TeJJbdr3Vb%2BSGGDzZBbQwwRhYLe3hVIoo0VIUAXOSe7oAKKKKAPjb9pb9rv9pb9nj4zQfDbWU%2BGfjW%2B1uCCbwjDp3ha9tJfBd5qXiHTPD2kTanK99MLqKdtXnBaJbORxY3Sxhl8wxe4/sq/F/wCJHxGHj/4ffGI6JP4q%2BGnjxvDWs6r4a06azsNT8zS9O1a3uIbeaeeS3za6pbo8bTS4kjkwxBGOFtv%2BCavhJrr4hv4h/aX%2BJ2s2/wASdeOuaxb6kdC8yz1KK4hn0%2B5trqLS0ulNg9vbi0jeaSKJYUDI/OfWPgH8BdD%2BAfh7VtNsvF%2BueJNW8Ra9NrXifxR4le2N/q99JHFD50wtYIIF2QQW8CJFFGixwRqF4JIB3VFFFADLn7T9mk%2Bx7PO2HyvNzt3Y4zjnGa%2BIPit%2B1z%2B2n8NPiJrnw2t7bwH4z17wxe%2BGrfVvHXgj4K6/q0fhy31Zrx72wl0qz1Ke7uZo4bKxuiYp0/d3ULSwIDE0n29dwyXFrLbw3UkDyRsqzxBS8ZIwGXcCuR1GQR6g189/Bj9gLxB8BPhtcfDT4d/t1fGKKO61Z9Tm1m8svCc%2BoS3cryyXM80z6EftMk7y7pJJxI%2BY02FAMEA9Z%2BAnxDsvit8HfD/xCsPiBo3ipNT08SPr/h/SZrC0u5ASshS1nmmltirqyNDJI7xsrKx3KQOvrkvgX8F/CX7Pvwv074U%2BCrm/uLKwluria%2B1W5E11fXd1cy3V1dTOFUNLNcTzSvtVV3SHaqrhR1tABVHxPD4kufDeoW/g3U7Gy1eSylXS7zU7B7q2guChEcksMcsTTRq2CyLJGWAIDqTuF6s3xjoN/wCKPC1/4d0vxbqWg3N5avFBrWjiA3Vi5HE0QuIpYi6nkCSN0OPmVhkUAfD3w3/bs/a1%2BMHxT1v4JfCzTfh8njPTbXXb6Txn4r%2BF2taGuqaZpFrosqWMuiXl8moafK934h2JNPM8flQyXCQus6A/Y3wC%2BLWm/Hz4E%2BCvjro2my2dn418Jabr1pZzPueCK8tY7hY2IAyVEgBPqK8W1f8A4JkeB9a1y%2B%2BIt3%2B0p8U0%2BIGrJeWutfEm2vdIh1a/0y6trW2m0wommizhtillaMPItopVkgWVZQ5Zj9B%2BC/B/hr4eeDtJ8AeDNJi0/R9D0yDT9JsIc7La2hjWOKNc84VFVR9KANOiiigDl/jTqPjjRvhbrWt/DnxDY6Xq1hZm6hvtQ8H3viBEjjIeUDTrGeC5vJGiV1SKGQOXZcK5%2BRvi34S/8FEfj94k8aaHqfje48I%2BBPBmpTzr4g8cXnwM8RTW2sX8Ov3WkIlzKt9GnhmeS1tLX9xqjSSwPKsb52BK%2B2/iZ4M13x74Sm8OeG/ilr/g28kljeLX/DMVi93BtYEqq39tcwMGAKkPE3BOMHBHit1/wTm8Kah4PuPhtq37SHxNu/DGuahNf%2BPNAmuNHEXjC7nvGuria%2BlXTRcReaWWFo7OW1iEMSRqijduAPomiiigAooooAKKKKACiiigAooooAKKKKACiiigAooooAKKKKACiiigAooooAKKKKACiiigAooooAKKKKACiiigAooooAKKKKACiiigAooooAKKKKACiiigAooooAKKKKACiiigAooooAKKKKACiiigAooooAKKKKACiiigAooooAKKKKACiiigAooooAKKKKACiiigAooooAKKKKACiiigAooooAKKKKACiiigAooooAKKKKACiiigAooooAKKKKACiiigAooooAKKKKACiiigAooooAKKKKACiiigAooooAKKKKACiiigAooooAKKKKACiiigD//Z\">"
            ]
          },
          "metadata": {}
        }
      ],
      "source": [
        "s.run(tf.global_variables_initializer())\n",
        "\n",
        "BATCH_SIZE = 512\n",
        "EPOCHS = 40\n",
        "\n",
        "# for logging the progress right here in Jupyter (for those who don't have TensorBoard)\n",
        "simpleTrainingCurves = matplotlib_utils.SimpleTrainingCurves(\"cross-entropy\", \"accuracy\")\n",
        "\n",
        "for epoch in range(EPOCHS):  # we finish an epoch when we've looked at all training samples\n",
        "    \n",
        "    batch_losses = []\n",
        "    for batch_start in range(0, X_train_flat.shape[0], BATCH_SIZE):  # data is already shuffled\n",
        "        _, batch_loss = s.run([step, loss], {input_X: X_train_flat[batch_start:batch_start+BATCH_SIZE], \n",
        "                                             input_y: y_train_oh[batch_start:batch_start+BATCH_SIZE]})\n",
        "        # collect batch losses, this is almost free as we need a forward pass for backprop anyway\n",
        "        batch_losses.append(batch_loss)\n",
        "\n",
        "    train_loss = np.mean(batch_losses)\n",
        "    val_loss = s.run(loss, {input_X: X_val_flat, input_y: y_val_oh})  # this part is usually small\n",
        "    train_accuracy = accuracy_score(y_train, s.run(classes, {input_X: X_train_flat}))  # this is slow and usually skipped\n",
        "    valid_accuracy = accuracy_score(y_val, s.run(classes, {input_X: X_val_flat}))  \n",
        "    simpleTrainingCurves.add(train_loss, val_loss, train_accuracy, valid_accuracy)"
      ]
    },
    {
      "cell_type": "markdown",
      "metadata": {
        "id": "3EQaqGS_Ju2y"
      },
      "source": [
        "# Submit a linear model"
      ]
    },
    {
      "cell_type": "code",
      "execution_count": 44,
      "metadata": {
        "id": "A3RTo8j1Ju2y"
      },
      "outputs": [],
      "source": [
        "## GRADED PART, DO NOT CHANGE!\n",
        "# Testing shapes \n",
        "grader.set_answer(\"9XaAS\", grading_utils.get_tensors_shapes_string([W, b, input_X, input_y, logits, probas, classes]))\n",
        "# Validation loss\n",
        "grader.set_answer(\"vmogZ\", s.run(loss, {input_X: X_val_flat, input_y: y_val_oh}))\n",
        "# Validation accuracy\n",
        "grader.set_answer(\"RMv95\", accuracy_score(y_val, s.run(classes, {input_X: X_val_flat})))"
      ]
    },
    {
      "cell_type": "code",
      "execution_count": 45,
      "metadata": {
        "id": "tyYu5NnIJu2y",
        "colab": {
          "base_uri": "https://localhost:8080/"
        },
        "outputId": "4aa26930-c461-482b-9494-6beada8ed8f7"
      },
      "outputs": [
        {
          "output_type": "stream",
          "name": "stdout",
          "text": [
            "Submitted to Coursera platform. See results on assignment page!\n"
          ]
        }
      ],
      "source": [
        "# you can make submission with answers so far to check yourself at this stage\n",
        "grader.submit(COURSERA_EMAIL, COURSERA_TOKEN)"
      ]
    },
    {
      "cell_type": "markdown",
      "metadata": {
        "id": "t5UAze-UJu2y"
      },
      "source": [
        "# MLP with hidden layers"
      ]
    },
    {
      "cell_type": "markdown",
      "metadata": {
        "id": "Ch0sJtl7Ju2z"
      },
      "source": [
        "Previously we've coded a dense layer with matrix multiplication by hand. \n",
        "But this is not convenient, you have to create a lot of variables and your code becomes a mess. \n",
        "In TensorFlow there's an easier way to make a dense layer:\n",
        "```python\n",
        "hidden1 = tf.layers.dense(inputs, 256, activation=tf.nn.sigmoid)\n",
        "```\n",
        "\n",
        "That will create all the necessary variables automatically.\n",
        "Here you can also choose an activation function (remember that we need it for a hidden layer!).\n",
        "\n",
        "Now define the MLP with 2 hidden layers and restart training with the cell above.\n",
        "\n",
        "You're aiming for ~0.97 validation accuracy here."
      ]
    },
    {
      "cell_type": "code",
      "source": [
        "hidden1 = tf.layers.dense(input_X, 256, activation=tf.nn.sigmoid)\n",
        "hidden2 = tf.layers.dense(hidden1, 256, activation=tf.nn.sigmoid)\n",
        "logits = tf.layers.dense(hidden2, 10)\n",
        "\n",
        "probas = tf.nn.softmax(logits)\n",
        "classes =  tf.argmax(probas, 1)\n",
        "\n",
        "# Loss should be a scalar number: average loss over all the objects with tf.reduce_mean().\n",
        "# Use tf.nn.softmax_cross_entropy_with_logits on top of one-hot encoded input_y and logits.\n",
        "# It is identical to calculating cross-entropy on top of probas, but is more numerically friendly (read the docs).\n",
        "loss = tf.reduce_mean(tf.nn.softmax_cross_entropy_with_logits(logits=logits, labels=input_y)) ### cross-entropy loss\n",
        "\n",
        "# Use a default tf.train.AdamOptimizer to get an SGD step\n",
        "step = tf.train.AdamOptimizer().minimize(loss)\n",
        "\n",
        "# s.run(tf.global_variables_initializer())\n",
        "\n",
        "# BATCH_SIZE = 512\n",
        "# EPOCHS = 40\n",
        "\n",
        "# # for logging the progress right here in Jupyter (for those who don't have TensorBoard)\n",
        "# simpleTrainingCurves = matplotlib_utils.SimpleTrainingCurves(\"cross-entropy\", \"accuracy\")\n",
        "\n",
        "# for epoch in range(EPOCHS):  # we finish an epoch when we've looked at all training samples\n",
        "    \n",
        "#     batch_losses = []\n",
        "#     for batch_start in range(0, X_train_flat.shape[0], BATCH_SIZE):  # data is already shuffled\n",
        "#         _, batch_loss = s.run([step, loss], {input_X: X_train_flat[batch_start:batch_start+BATCH_SIZE], \n",
        "#                                              input_y: y_train_oh[batch_start:batch_start+BATCH_SIZE]})\n",
        "#         # collect batch losses, this is almost free as we need a forward pass for backprop anyway\n",
        "#         batch_losses.append(batch_loss)\n",
        "\n",
        "#     train_loss = np.mean(batch_losses)\n",
        "#     val_loss = s.run(loss, {input_X: X_val_flat, input_y: y_val_oh})  # this part is usually small\n",
        "#     train_accuracy = accuracy_score(y_train, s.run(classes, {input_X: X_train_flat}))  # this is slow and usually skipped\n",
        "#     valid_accuracy = accuracy_score(y_val, s.run(classes, {input_X: X_val_flat}))  \n",
        "#     simpleTrainingCurves.add(train_loss, val_loss, train_accuracy, valid_accuracy)"
      ],
      "metadata": {
        "id": "knC11hBz7Oyq"
      },
      "execution_count": 46,
      "outputs": []
    },
    {
      "cell_type": "code",
      "execution_count": null,
      "metadata": {
        "id": "oMrI3nEEJu2z"
      },
      "outputs": [],
      "source": [
        "# write the code here to get a new `step` operation and then run the cell with training loop above.\n",
        "# name your variables in the same way (e.g. logits, probas, classes, etc) for safety.\n",
        "### YOUR CODE HERE ###\n",
        "\n",
        "# Compute predictions\n",
        "logits = tf.matmul(input_X, W)+b ### shape should be [input_X.shape[0], 10]\n",
        "probas = tf.nn.softmax(logits)\n",
        "classes =  tf.argmax(probas, 1)\n",
        "\n",
        "# Loss should be a scalar number: average loss over all the objects with tf.reduce_mean().\n",
        "# Use tf.nn.softmax_cross_entropy_with_logits on top of one-hot encoded input_y and logits.\n",
        "# It is identical to calculating cross-entropy on top of probas, but is more numerically friendly (read the docs).\n",
        "loss = tf.reduce_mean(tf.nn.softmax_cross_entropy_with_logits(logits=logits, labels=input_y)) ### cross-entropy loss\n",
        "\n",
        "# Use a default tf.train.AdamOptimizer to get an SGD step\n",
        "step = tf.train.AdamOptimizer().minimize(loss)\n",
        "### YOUR CODE HERE ### optimizer step that minimizes the loss"
      ]
    },
    {
      "cell_type": "markdown",
      "metadata": {
        "id": "BBHC93RmJu2z"
      },
      "source": [
        "# Submit the MLP with 2 hidden layers\n",
        "Run these cells after training the MLP with 2 hidden layers"
      ]
    },
    {
      "cell_type": "code",
      "execution_count": 48,
      "metadata": {
        "id": "iKgP30WuJu2z"
      },
      "outputs": [],
      "source": [
        "## GRADED PART, DO NOT CHANGE!\n",
        "# Validation loss for MLP\n",
        "grader.set_answer(\"i8bgs\", s.run(loss, {input_X: X_val_flat, input_y: y_val_oh}))\n",
        "# Validation accuracy for MLP\n",
        "grader.set_answer(\"rE763\", accuracy_score(y_val, s.run(classes, {input_X: X_val_flat})))"
      ]
    },
    {
      "cell_type": "code",
      "execution_count": 49,
      "metadata": {
        "id": "jJ3JXKeUJu20",
        "colab": {
          "base_uri": "https://localhost:8080/"
        },
        "outputId": "5e05d03f-0fcc-40ec-b139-2511684e679e"
      },
      "outputs": [
        {
          "output_type": "stream",
          "name": "stdout",
          "text": [
            "Submitted to Coursera platform. See results on assignment page!\n"
          ]
        }
      ],
      "source": [
        "# you can make submission with answers so far to check yourself at this stage\n",
        "grader.submit(COURSERA_EMAIL, COURSERA_TOKEN)"
      ]
    },
    {
      "cell_type": "code",
      "execution_count": null,
      "metadata": {
        "id": "m8TjAdA5Ju20"
      },
      "outputs": [],
      "source": [
        ""
      ]
    }
  ],
  "metadata": {
    "kernelspec": {
      "display_name": "Python 3",
      "language": "python",
      "name": "python3"
    },
    "language_info": {
      "codemirror_mode": {
        "name": "ipython",
        "version": 3
      },
      "file_extension": ".py",
      "mimetype": "text/x-python",
      "name": "python",
      "nbconvert_exporter": "python",
      "pygments_lexer": "ipython3",
      "version": "3.6.5"
    },
    "colab": {
      "name": "Digits_classification.ipynb",
      "provenance": [],
      "include_colab_link": true
    }
  },
  "nbformat": 4,
  "nbformat_minor": 0
}